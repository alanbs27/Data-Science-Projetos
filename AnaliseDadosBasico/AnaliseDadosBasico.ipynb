{
 "cells": [
  {
   "cell_type": "markdown",
   "metadata": {},
   "source": [
    "# Respondendo perguntas de Negócio em Python\n",
    "\n",
    "<b>Para iniciarmos com os comandos básicos em Python para uma analise de dados, vamos responder algumas perguntas referente aos dados que temos.\n",
    "    \n",
    "1 - Qual a quantidade de clientes que possuem financiamento de cada produto?<br>\n",
    "2 - Qual o menor valor financiado?<br>\n",
    "3 - Qual o maior valor financiado?<br>\n",
    "4 - Qual o cliente que possui a menor idade?<br> \n",
    "5 - Qual o cliente que possui a maior idade?<br>    "
   ]
  },
  {
   "cell_type": "code",
   "execution_count": 1,
   "metadata": {},
   "outputs": [],
   "source": [
    "# A primeira coisa que temos que fazer é importar os pacotes que iremos utilizar.\n",
    "# Obs.: Pacotes do Python são conjuntos de funcionalidades disponíveis da ferramenta.\n",
    "\n",
    "#Pandas: Possui inúmeras funções e comandos para importar arquivos, analisar dados, tratar dados, etc.\n",
    "import pandas as pd\n",
    "\n",
    "#Matplotlib: Possui uma série de funções e comandos para exibição de gráficos\n",
    "import matplotlib.pyplot as plt\n",
    "\n",
    "#Seaborn: Possui uma série de funções e comandos para exibição de gráficos (Visualizações mais robustas do que o Matplotlib)\n",
    "import seaborn as sns\n",
    "\n",
    "#Warnings: Possui funções para desativar mensagens de alerta e avisos do Python\n",
    "import warnings\n",
    "warnings.filterwarnings(\"ignore\")"
   ]
  },
  {
   "cell_type": "code",
   "execution_count": 2,
   "metadata": {},
   "outputs": [],
   "source": [
    "#Comando para exibir todas colunas do arquivo\n",
    "pd.set_option('display.max_columns', None)\n",
    "pd.set_option('display.max_rows', None)"
   ]
  },
  {
   "cell_type": "code",
   "execution_count": 3,
   "metadata": {},
   "outputs": [],
   "source": [
    "#Comando utilizado para carregar o arquivo e armazena-lo como um DataFrame do Pandas\n",
    "#Um DataFrame do Pandas é como se fosse uma planilha do Excel, onde podemos tratar linhas e colunas.\n",
    "df_original = pd.read_csv(\"dados.csv\", sep = ';', encoding=\"ISO-8859-1\")"
   ]
  },
  {
   "cell_type": "code",
   "execution_count": 4,
   "metadata": {},
   "outputs": [
    {
     "data": {
      "text/plain": [
       "(343297, 13)"
      ]
     },
     "execution_count": 4,
     "metadata": {},
     "output_type": "execute_result"
    }
   ],
   "source": [
    "#Comando utilizado para verificar a quantidade de linhas e colunas do arquivo\n",
    "#Colunas também são chamadas de variáveis.\n",
    "df_original.shape"
   ]
  },
  {
   "cell_type": "code",
   "execution_count": 5,
   "metadata": {},
   "outputs": [
    {
     "data": {
      "text/html": [
       "<div>\n",
       "<style scoped>\n",
       "    .dataframe tbody tr th:only-of-type {\n",
       "        vertical-align: middle;\n",
       "    }\n",
       "\n",
       "    .dataframe tbody tr th {\n",
       "        vertical-align: top;\n",
       "    }\n",
       "\n",
       "    .dataframe thead th {\n",
       "        text-align: right;\n",
       "    }\n",
       "</style>\n",
       "<table border=\"1\" class=\"dataframe\">\n",
       "  <thead>\n",
       "    <tr style=\"text-align: right;\">\n",
       "      <th></th>\n",
       "      <th>ID_CLIENTE</th>\n",
       "      <th>DATA_AQUISICAO</th>\n",
       "      <th>DIAS_ATIVO</th>\n",
       "      <th>MESES_ATIVO</th>\n",
       "      <th>PRAZO_FINANCIAMENTO</th>\n",
       "      <th>VALOR_TABELA</th>\n",
       "      <th>IDADE_CLIENTE</th>\n",
       "      <th>PRODUTO</th>\n",
       "      <th>QT_PC_PAGAS</th>\n",
       "      <th>QT_PC_VENCIDAS</th>\n",
       "      <th>QT_PC_PAGA_ATRASO</th>\n",
       "      <th>QT_PC_PAGA_EM_DIA</th>\n",
       "      <th>VALOR_PARCELAS_ATRASO</th>\n",
       "    </tr>\n",
       "  </thead>\n",
       "  <tbody>\n",
       "    <tr>\n",
       "      <th>0</th>\n",
       "      <td>66221</td>\n",
       "      <td>18/06/2021</td>\n",
       "      <td>33</td>\n",
       "      <td>1</td>\n",
       "      <td>120</td>\n",
       "      <td>20000</td>\n",
       "      <td>42.0</td>\n",
       "      <td>MOTOCICLETAS</td>\n",
       "      <td>1</td>\n",
       "      <td>4</td>\n",
       "      <td>0</td>\n",
       "      <td>1</td>\n",
       "      <td>667</td>\n",
       "    </tr>\n",
       "    <tr>\n",
       "      <th>1</th>\n",
       "      <td>46982</td>\n",
       "      <td>10/04/2018</td>\n",
       "      <td>1198</td>\n",
       "      <td>39</td>\n",
       "      <td>120</td>\n",
       "      <td>80000</td>\n",
       "      <td>38.0</td>\n",
       "      <td>AUTOMOVEIS</td>\n",
       "      <td>5</td>\n",
       "      <td>0</td>\n",
       "      <td>1</td>\n",
       "      <td>4</td>\n",
       "      <td>0</td>\n",
       "    </tr>\n",
       "    <tr>\n",
       "      <th>2</th>\n",
       "      <td>57888</td>\n",
       "      <td>09/10/2020</td>\n",
       "      <td>285</td>\n",
       "      <td>9</td>\n",
       "      <td>120</td>\n",
       "      <td>230000</td>\n",
       "      <td>75.0</td>\n",
       "      <td>CAMINHÕES</td>\n",
       "      <td>5</td>\n",
       "      <td>0</td>\n",
       "      <td>3</td>\n",
       "      <td>2</td>\n",
       "      <td>0</td>\n",
       "    </tr>\n",
       "    <tr>\n",
       "      <th>3</th>\n",
       "      <td>51915</td>\n",
       "      <td>25/06/2019</td>\n",
       "      <td>757</td>\n",
       "      <td>25</td>\n",
       "      <td>120</td>\n",
       "      <td>80000</td>\n",
       "      <td>43.0</td>\n",
       "      <td>AUTOMOVEIS</td>\n",
       "      <td>5</td>\n",
       "      <td>0</td>\n",
       "      <td>1</td>\n",
       "      <td>4</td>\n",
       "      <td>0</td>\n",
       "    </tr>\n",
       "    <tr>\n",
       "      <th>4</th>\n",
       "      <td>52724</td>\n",
       "      <td>19/09/2019</td>\n",
       "      <td>671</td>\n",
       "      <td>22</td>\n",
       "      <td>120</td>\n",
       "      <td>80000</td>\n",
       "      <td>66.0</td>\n",
       "      <td>AUTOMOVEIS</td>\n",
       "      <td>5</td>\n",
       "      <td>0</td>\n",
       "      <td>5</td>\n",
       "      <td>0</td>\n",
       "      <td>0</td>\n",
       "    </tr>\n",
       "  </tbody>\n",
       "</table>\n",
       "</div>"
      ],
      "text/plain": [
       "   ID_CLIENTE DATA_AQUISICAO  DIAS_ATIVO  MESES_ATIVO  PRAZO_FINANCIAMENTO  \\\n",
       "0       66221     18/06/2021          33            1                  120   \n",
       "1       46982     10/04/2018        1198           39                  120   \n",
       "2       57888     09/10/2020         285            9                  120   \n",
       "3       51915     25/06/2019         757           25                  120   \n",
       "4       52724     19/09/2019         671           22                  120   \n",
       "\n",
       "   VALOR_TABELA  IDADE_CLIENTE       PRODUTO  QT_PC_PAGAS  QT_PC_VENCIDAS  \\\n",
       "0         20000           42.0  MOTOCICLETAS            1               4   \n",
       "1         80000           38.0    AUTOMOVEIS            5               0   \n",
       "2        230000           75.0     CAMINHÕES            5               0   \n",
       "3         80000           43.0    AUTOMOVEIS            5               0   \n",
       "4         80000           66.0    AUTOMOVEIS            5               0   \n",
       "\n",
       "   QT_PC_PAGA_ATRASO  QT_PC_PAGA_EM_DIA  VALOR_PARCELAS_ATRASO  \n",
       "0                  0                  1                    667  \n",
       "1                  1                  4                      0  \n",
       "2                  3                  2                      0  \n",
       "3                  1                  4                      0  \n",
       "4                  5                  0                      0  "
      ]
     },
     "execution_count": 5,
     "metadata": {},
     "output_type": "execute_result"
    }
   ],
   "source": [
    "#Comando utilizado para verificar as linhas iniciais do DataFrame\n",
    "df_original.head()"
   ]
  },
  {
   "cell_type": "code",
   "execution_count": 6,
   "metadata": {},
   "outputs": [
    {
     "data": {
      "text/html": [
       "<div>\n",
       "<style scoped>\n",
       "    .dataframe tbody tr th:only-of-type {\n",
       "        vertical-align: middle;\n",
       "    }\n",
       "\n",
       "    .dataframe tbody tr th {\n",
       "        vertical-align: top;\n",
       "    }\n",
       "\n",
       "    .dataframe thead th {\n",
       "        text-align: right;\n",
       "    }\n",
       "</style>\n",
       "<table border=\"1\" class=\"dataframe\">\n",
       "  <thead>\n",
       "    <tr style=\"text-align: right;\">\n",
       "      <th></th>\n",
       "      <th>ID_CLIENTE</th>\n",
       "      <th>DATA_AQUISICAO</th>\n",
       "      <th>DIAS_ATIVO</th>\n",
       "      <th>MESES_ATIVO</th>\n",
       "      <th>PRAZO_FINANCIAMENTO</th>\n",
       "      <th>VALOR_TABELA</th>\n",
       "      <th>IDADE_CLIENTE</th>\n",
       "      <th>PRODUTO</th>\n",
       "      <th>QT_PC_PAGAS</th>\n",
       "      <th>QT_PC_VENCIDAS</th>\n",
       "      <th>QT_PC_PAGA_ATRASO</th>\n",
       "      <th>QT_PC_PAGA_EM_DIA</th>\n",
       "      <th>VALOR_PARCELAS_ATRASO</th>\n",
       "    </tr>\n",
       "  </thead>\n",
       "  <tbody>\n",
       "    <tr>\n",
       "      <th>343292</th>\n",
       "      <td>29393160</td>\n",
       "      <td>26/01/2018</td>\n",
       "      <td>166</td>\n",
       "      <td>6</td>\n",
       "      <td>120</td>\n",
       "      <td>80000</td>\n",
       "      <td>40.0</td>\n",
       "      <td>AUTOMOVEIS</td>\n",
       "      <td>2</td>\n",
       "      <td>4</td>\n",
       "      <td>0</td>\n",
       "      <td>2</td>\n",
       "      <td>2667</td>\n",
       "    </tr>\n",
       "    <tr>\n",
       "      <th>343293</th>\n",
       "      <td>25093062</td>\n",
       "      <td>15/04/2016</td>\n",
       "      <td>176</td>\n",
       "      <td>6</td>\n",
       "      <td>60</td>\n",
       "      <td>80000</td>\n",
       "      <td>46.0</td>\n",
       "      <td>AUTOMOVEIS</td>\n",
       "      <td>2</td>\n",
       "      <td>4</td>\n",
       "      <td>1</td>\n",
       "      <td>1</td>\n",
       "      <td>5333</td>\n",
       "    </tr>\n",
       "    <tr>\n",
       "      <th>343294</th>\n",
       "      <td>31101650</td>\n",
       "      <td>30/09/2019</td>\n",
       "      <td>163</td>\n",
       "      <td>6</td>\n",
       "      <td>60</td>\n",
       "      <td>80000</td>\n",
       "      <td>29.0</td>\n",
       "      <td>AUTOMOVEIS</td>\n",
       "      <td>2</td>\n",
       "      <td>3</td>\n",
       "      <td>0</td>\n",
       "      <td>2</td>\n",
       "      <td>4000</td>\n",
       "    </tr>\n",
       "    <tr>\n",
       "      <th>343295</th>\n",
       "      <td>26930480</td>\n",
       "      <td>16/01/2015</td>\n",
       "      <td>165</td>\n",
       "      <td>5</td>\n",
       "      <td>120</td>\n",
       "      <td>80000</td>\n",
       "      <td>62.0</td>\n",
       "      <td>AUTOMOVEIS</td>\n",
       "      <td>3</td>\n",
       "      <td>3</td>\n",
       "      <td>0</td>\n",
       "      <td>3</td>\n",
       "      <td>2000</td>\n",
       "    </tr>\n",
       "    <tr>\n",
       "      <th>343296</th>\n",
       "      <td>27876161</td>\n",
       "      <td>29/04/2016</td>\n",
       "      <td>154</td>\n",
       "      <td>5</td>\n",
       "      <td>120</td>\n",
       "      <td>80000</td>\n",
       "      <td>25.0</td>\n",
       "      <td>AUTOMOVEIS</td>\n",
       "      <td>3</td>\n",
       "      <td>3</td>\n",
       "      <td>1</td>\n",
       "      <td>2</td>\n",
       "      <td>2000</td>\n",
       "    </tr>\n",
       "  </tbody>\n",
       "</table>\n",
       "</div>"
      ],
      "text/plain": [
       "        ID_CLIENTE DATA_AQUISICAO  DIAS_ATIVO  MESES_ATIVO  \\\n",
       "343292    29393160     26/01/2018         166            6   \n",
       "343293    25093062     15/04/2016         176            6   \n",
       "343294    31101650     30/09/2019         163            6   \n",
       "343295    26930480     16/01/2015         165            5   \n",
       "343296    27876161     29/04/2016         154            5   \n",
       "\n",
       "        PRAZO_FINANCIAMENTO  VALOR_TABELA  IDADE_CLIENTE     PRODUTO  \\\n",
       "343292                  120         80000           40.0  AUTOMOVEIS   \n",
       "343293                   60         80000           46.0  AUTOMOVEIS   \n",
       "343294                   60         80000           29.0  AUTOMOVEIS   \n",
       "343295                  120         80000           62.0  AUTOMOVEIS   \n",
       "343296                  120         80000           25.0  AUTOMOVEIS   \n",
       "\n",
       "        QT_PC_PAGAS  QT_PC_VENCIDAS  QT_PC_PAGA_ATRASO  QT_PC_PAGA_EM_DIA  \\\n",
       "343292            2               4                  0                  2   \n",
       "343293            2               4                  1                  1   \n",
       "343294            2               3                  0                  2   \n",
       "343295            3               3                  0                  3   \n",
       "343296            3               3                  1                  2   \n",
       "\n",
       "        VALOR_PARCELAS_ATRASO  \n",
       "343292                   2667  \n",
       "343293                   5333  \n",
       "343294                   4000  \n",
       "343295                   2000  \n",
       "343296                   2000  "
      ]
     },
     "execution_count": 6,
     "metadata": {},
     "output_type": "execute_result"
    }
   ],
   "source": [
    "#Comando utilizado para verificar as linhas finais do DataFrame\n",
    "df_original.tail()"
   ]
  },
  {
   "cell_type": "code",
   "execution_count": 7,
   "metadata": {},
   "outputs": [
    {
     "name": "stdout",
     "output_type": "stream",
     "text": [
      "Período dos dados - De: 2015-01-03 Até: 2021-12-06\n"
     ]
    }
   ],
   "source": [
    "#Avaliar o período dos dados coletados\n",
    "inicio = pd.to_datetime(df_original['DATA_AQUISICAO']).dt.date.min()\n",
    "fim = pd.to_datetime(df_original['DATA_AQUISICAO']).dt.date.max()\n",
    "print('Período dos dados - De:', inicio, 'Até:',fim)"
   ]
  },
  {
   "cell_type": "code",
   "execution_count": 8,
   "metadata": {},
   "outputs": [
    {
     "name": "stdout",
     "output_type": "stream",
     "text": [
      "<class 'pandas.core.frame.DataFrame'>\n",
      "RangeIndex: 343297 entries, 0 to 343296\n",
      "Data columns (total 13 columns):\n",
      " #   Column                 Non-Null Count   Dtype  \n",
      "---  ------                 --------------   -----  \n",
      " 0   ID_CLIENTE             343297 non-null  int64  \n",
      " 1   DATA_AQUISICAO         343297 non-null  object \n",
      " 2   DIAS_ATIVO             343297 non-null  int64  \n",
      " 3   MESES_ATIVO            343297 non-null  int64  \n",
      " 4   PRAZO_FINANCIAMENTO    343297 non-null  int64  \n",
      " 5   VALOR_TABELA           343297 non-null  int64  \n",
      " 6   IDADE_CLIENTE          343285 non-null  float64\n",
      " 7   PRODUTO                343297 non-null  object \n",
      " 8   QT_PC_PAGAS            343297 non-null  int64  \n",
      " 9   QT_PC_VENCIDAS         343297 non-null  int64  \n",
      " 10  QT_PC_PAGA_ATRASO      343297 non-null  int64  \n",
      " 11  QT_PC_PAGA_EM_DIA      343297 non-null  int64  \n",
      " 12  VALOR_PARCELAS_ATRASO  343297 non-null  int64  \n",
      "dtypes: float64(1), int64(10), object(2)\n",
      "memory usage: 34.0+ MB\n"
     ]
    }
   ],
   "source": [
    "#Comando utilizado para verificar informações sobre os dados(Tipo de variáveis, Variáveis, Quantidade de registros, etc)\n",
    "df_original.info()"
   ]
  },
  {
   "cell_type": "code",
   "execution_count": 9,
   "metadata": {},
   "outputs": [
    {
     "data": {
      "text/plain": [
       "ID_CLIENTE                0\n",
       "DATA_AQUISICAO            0\n",
       "DIAS_ATIVO                0\n",
       "MESES_ATIVO               0\n",
       "PRAZO_FINANCIAMENTO       0\n",
       "VALOR_TABELA              0\n",
       "IDADE_CLIENTE            12\n",
       "PRODUTO                   0\n",
       "QT_PC_PAGAS               0\n",
       "QT_PC_VENCIDAS            0\n",
       "QT_PC_PAGA_ATRASO         0\n",
       "QT_PC_PAGA_EM_DIA         0\n",
       "VALOR_PARCELAS_ATRASO     0\n",
       "dtype: int64"
      ]
     },
     "execution_count": 9,
     "metadata": {},
     "output_type": "execute_result"
    }
   ],
   "source": [
    "# Comando utilizado para avaliar se alguma variável possui valor nulo ou chamado de valores missing ou NAN (Not Available)\n",
    "df_original.isnull().sum()"
   ]
  },
  {
   "cell_type": "code",
   "execution_count": 10,
   "metadata": {},
   "outputs": [
    {
     "data": {
      "text/html": [
       "<div>\n",
       "<style scoped>\n",
       "    .dataframe tbody tr th:only-of-type {\n",
       "        vertical-align: middle;\n",
       "    }\n",
       "\n",
       "    .dataframe tbody tr th {\n",
       "        vertical-align: top;\n",
       "    }\n",
       "\n",
       "    .dataframe thead th {\n",
       "        text-align: right;\n",
       "    }\n",
       "</style>\n",
       "<table border=\"1\" class=\"dataframe\">\n",
       "  <thead>\n",
       "    <tr style=\"text-align: right;\">\n",
       "      <th></th>\n",
       "      <th>ID_CLIENTE</th>\n",
       "      <th>DATA_AQUISICAO</th>\n",
       "      <th>DIAS_ATIVO</th>\n",
       "      <th>MESES_ATIVO</th>\n",
       "      <th>PRAZO_FINANCIAMENTO</th>\n",
       "      <th>VALOR_TABELA</th>\n",
       "      <th>IDADE_CLIENTE</th>\n",
       "      <th>PRODUTO</th>\n",
       "      <th>QT_PC_PAGAS</th>\n",
       "      <th>QT_PC_VENCIDAS</th>\n",
       "      <th>QT_PC_PAGA_ATRASO</th>\n",
       "      <th>QT_PC_PAGA_EM_DIA</th>\n",
       "      <th>VALOR_PARCELAS_ATRASO</th>\n",
       "    </tr>\n",
       "  </thead>\n",
       "  <tbody>\n",
       "    <tr>\n",
       "      <th>99022</th>\n",
       "      <td>1916725</td>\n",
       "      <td>19/02/2018</td>\n",
       "      <td>1248</td>\n",
       "      <td>41</td>\n",
       "      <td>240</td>\n",
       "      <td>300000</td>\n",
       "      <td>NaN</td>\n",
       "      <td>IMOVEIS</td>\n",
       "      <td>0</td>\n",
       "      <td>0</td>\n",
       "      <td>0</td>\n",
       "      <td>0</td>\n",
       "      <td>0</td>\n",
       "    </tr>\n",
       "    <tr>\n",
       "      <th>99023</th>\n",
       "      <td>1916758</td>\n",
       "      <td>19/02/2018</td>\n",
       "      <td>1248</td>\n",
       "      <td>41</td>\n",
       "      <td>240</td>\n",
       "      <td>300000</td>\n",
       "      <td>NaN</td>\n",
       "      <td>IMOVEIS</td>\n",
       "      <td>0</td>\n",
       "      <td>0</td>\n",
       "      <td>0</td>\n",
       "      <td>0</td>\n",
       "      <td>0</td>\n",
       "    </tr>\n",
       "    <tr>\n",
       "      <th>99198</th>\n",
       "      <td>1910034</td>\n",
       "      <td>27/07/2018</td>\n",
       "      <td>1090</td>\n",
       "      <td>36</td>\n",
       "      <td>240</td>\n",
       "      <td>300000</td>\n",
       "      <td>NaN</td>\n",
       "      <td>IMOVEIS</td>\n",
       "      <td>0</td>\n",
       "      <td>0</td>\n",
       "      <td>0</td>\n",
       "      <td>0</td>\n",
       "      <td>0</td>\n",
       "    </tr>\n",
       "    <tr>\n",
       "      <th>121158</th>\n",
       "      <td>1914991</td>\n",
       "      <td>22/12/2015</td>\n",
       "      <td>161</td>\n",
       "      <td>5</td>\n",
       "      <td>240</td>\n",
       "      <td>300000</td>\n",
       "      <td>NaN</td>\n",
       "      <td>IMOVEIS</td>\n",
       "      <td>0</td>\n",
       "      <td>3</td>\n",
       "      <td>0</td>\n",
       "      <td>0</td>\n",
       "      <td>3750</td>\n",
       "    </tr>\n",
       "    <tr>\n",
       "      <th>121389</th>\n",
       "      <td>1896048</td>\n",
       "      <td>25/08/2016</td>\n",
       "      <td>159</td>\n",
       "      <td>5</td>\n",
       "      <td>120</td>\n",
       "      <td>20000</td>\n",
       "      <td>NaN</td>\n",
       "      <td>MOTOCICLETAS</td>\n",
       "      <td>0</td>\n",
       "      <td>3</td>\n",
       "      <td>0</td>\n",
       "      <td>0</td>\n",
       "      <td>500</td>\n",
       "    </tr>\n",
       "    <tr>\n",
       "      <th>121415</th>\n",
       "      <td>1881833</td>\n",
       "      <td>03/02/2017</td>\n",
       "      <td>178</td>\n",
       "      <td>5</td>\n",
       "      <td>120</td>\n",
       "      <td>80000</td>\n",
       "      <td>NaN</td>\n",
       "      <td>AUTOMOVEIS</td>\n",
       "      <td>0</td>\n",
       "      <td>3</td>\n",
       "      <td>0</td>\n",
       "      <td>0</td>\n",
       "      <td>2000</td>\n",
       "    </tr>\n",
       "    <tr>\n",
       "      <th>121535</th>\n",
       "      <td>1915604</td>\n",
       "      <td>31/08/2017</td>\n",
       "      <td>153</td>\n",
       "      <td>5</td>\n",
       "      <td>240</td>\n",
       "      <td>300000</td>\n",
       "      <td>NaN</td>\n",
       "      <td>IMOVEIS</td>\n",
       "      <td>0</td>\n",
       "      <td>3</td>\n",
       "      <td>0</td>\n",
       "      <td>0</td>\n",
       "      <td>3750</td>\n",
       "    </tr>\n",
       "    <tr>\n",
       "      <th>121536</th>\n",
       "      <td>1914815</td>\n",
       "      <td>31/08/2017</td>\n",
       "      <td>153</td>\n",
       "      <td>5</td>\n",
       "      <td>240</td>\n",
       "      <td>300000</td>\n",
       "      <td>NaN</td>\n",
       "      <td>IMOVEIS</td>\n",
       "      <td>0</td>\n",
       "      <td>3</td>\n",
       "      <td>0</td>\n",
       "      <td>0</td>\n",
       "      <td>3750</td>\n",
       "    </tr>\n",
       "    <tr>\n",
       "      <th>121662</th>\n",
       "      <td>1914762</td>\n",
       "      <td>03/01/2018</td>\n",
       "      <td>174</td>\n",
       "      <td>5</td>\n",
       "      <td>240</td>\n",
       "      <td>300000</td>\n",
       "      <td>NaN</td>\n",
       "      <td>IMOVEIS</td>\n",
       "      <td>0</td>\n",
       "      <td>1</td>\n",
       "      <td>0</td>\n",
       "      <td>0</td>\n",
       "      <td>1250</td>\n",
       "    </tr>\n",
       "    <tr>\n",
       "      <th>121663</th>\n",
       "      <td>1915642</td>\n",
       "      <td>03/01/2018</td>\n",
       "      <td>174</td>\n",
       "      <td>5</td>\n",
       "      <td>240</td>\n",
       "      <td>300000</td>\n",
       "      <td>NaN</td>\n",
       "      <td>IMOVEIS</td>\n",
       "      <td>0</td>\n",
       "      <td>1</td>\n",
       "      <td>0</td>\n",
       "      <td>0</td>\n",
       "      <td>1250</td>\n",
       "    </tr>\n",
       "    <tr>\n",
       "      <th>121812</th>\n",
       "      <td>1918935</td>\n",
       "      <td>10/05/2018</td>\n",
       "      <td>173</td>\n",
       "      <td>5</td>\n",
       "      <td>240</td>\n",
       "      <td>300000</td>\n",
       "      <td>NaN</td>\n",
       "      <td>IMOVEIS</td>\n",
       "      <td>0</td>\n",
       "      <td>1</td>\n",
       "      <td>0</td>\n",
       "      <td>0</td>\n",
       "      <td>1250</td>\n",
       "    </tr>\n",
       "    <tr>\n",
       "      <th>121822</th>\n",
       "      <td>1918259</td>\n",
       "      <td>11/06/2018</td>\n",
       "      <td>172</td>\n",
       "      <td>5</td>\n",
       "      <td>240</td>\n",
       "      <td>300000</td>\n",
       "      <td>NaN</td>\n",
       "      <td>IMOVEIS</td>\n",
       "      <td>0</td>\n",
       "      <td>3</td>\n",
       "      <td>0</td>\n",
       "      <td>0</td>\n",
       "      <td>3750</td>\n",
       "    </tr>\n",
       "  </tbody>\n",
       "</table>\n",
       "</div>"
      ],
      "text/plain": [
       "        ID_CLIENTE DATA_AQUISICAO  DIAS_ATIVO  MESES_ATIVO  \\\n",
       "99022      1916725     19/02/2018        1248           41   \n",
       "99023      1916758     19/02/2018        1248           41   \n",
       "99198      1910034     27/07/2018        1090           36   \n",
       "121158     1914991     22/12/2015         161            5   \n",
       "121389     1896048     25/08/2016         159            5   \n",
       "121415     1881833     03/02/2017         178            5   \n",
       "121535     1915604     31/08/2017         153            5   \n",
       "121536     1914815     31/08/2017         153            5   \n",
       "121662     1914762     03/01/2018         174            5   \n",
       "121663     1915642     03/01/2018         174            5   \n",
       "121812     1918935     10/05/2018         173            5   \n",
       "121822     1918259     11/06/2018         172            5   \n",
       "\n",
       "        PRAZO_FINANCIAMENTO  VALOR_TABELA  IDADE_CLIENTE       PRODUTO  \\\n",
       "99022                   240        300000            NaN       IMOVEIS   \n",
       "99023                   240        300000            NaN       IMOVEIS   \n",
       "99198                   240        300000            NaN       IMOVEIS   \n",
       "121158                  240        300000            NaN       IMOVEIS   \n",
       "121389                  120         20000            NaN  MOTOCICLETAS   \n",
       "121415                  120         80000            NaN    AUTOMOVEIS   \n",
       "121535                  240        300000            NaN       IMOVEIS   \n",
       "121536                  240        300000            NaN       IMOVEIS   \n",
       "121662                  240        300000            NaN       IMOVEIS   \n",
       "121663                  240        300000            NaN       IMOVEIS   \n",
       "121812                  240        300000            NaN       IMOVEIS   \n",
       "121822                  240        300000            NaN       IMOVEIS   \n",
       "\n",
       "        QT_PC_PAGAS  QT_PC_VENCIDAS  QT_PC_PAGA_ATRASO  QT_PC_PAGA_EM_DIA  \\\n",
       "99022             0               0                  0                  0   \n",
       "99023             0               0                  0                  0   \n",
       "99198             0               0                  0                  0   \n",
       "121158            0               3                  0                  0   \n",
       "121389            0               3                  0                  0   \n",
       "121415            0               3                  0                  0   \n",
       "121535            0               3                  0                  0   \n",
       "121536            0               3                  0                  0   \n",
       "121662            0               1                  0                  0   \n",
       "121663            0               1                  0                  0   \n",
       "121812            0               1                  0                  0   \n",
       "121822            0               3                  0                  0   \n",
       "\n",
       "        VALOR_PARCELAS_ATRASO  \n",
       "99022                       0  \n",
       "99023                       0  \n",
       "99198                       0  \n",
       "121158                   3750  \n",
       "121389                    500  \n",
       "121415                   2000  \n",
       "121535                   3750  \n",
       "121536                   3750  \n",
       "121662                   1250  \n",
       "121663                   1250  \n",
       "121812                   1250  \n",
       "121822                   3750  "
      ]
     },
     "execution_count": 10,
     "metadata": {},
     "output_type": "execute_result"
    }
   ],
   "source": [
    "# Comando utilizado para filtrar todos os dados que possuam valor nulo no campo IDADE_CLIENTE\n",
    "df_original[df_original['IDADE_CLIENTE'].isnull()]"
   ]
  },
  {
   "cell_type": "code",
   "execution_count": 11,
   "metadata": {},
   "outputs": [
    {
     "data": {
      "text/plain": [
       "520.9413569008759"
      ]
     },
     "execution_count": 11,
     "metadata": {},
     "output_type": "execute_result"
    }
   ],
   "source": [
    "# Comando utilizado para verificar a média de uma determinada variável\n",
    "# Média: É uma medida estatistica onde faz a soma de todos valores do conjunto de dados e divide pela quantidade de dados.\n",
    "df_original['DIAS_ATIVO'].mean()"
   ]
  },
  {
   "cell_type": "code",
   "execution_count": null,
   "metadata": {},
   "outputs": [],
   "source": [
    "# Comando utilizado para verificar a Mediana de uma determinada variável\n",
    "#Mediana: É uma medida estatistica utilizada para visualizar demonstrar o valor do meio dos dados\n",
    "df_original['DIAS_ATIVO'].median()"
   ]
  },
  {
   "cell_type": "code",
   "execution_count": 12,
   "metadata": {},
   "outputs": [
    {
     "data": {
      "text/plain": [
       "379.7529070566445"
      ]
     },
     "execution_count": 12,
     "metadata": {},
     "output_type": "execute_result"
    }
   ],
   "source": [
    "# Desvio Padrão\n",
    "# O desvio padrão (standard deviation) é a raiz quadrada da variância. \n",
    "# Toda discussão em relação à variância populacional Vs. amostral se aplica, com as devidas mudanças, ao desvio padrão.\n",
    "df_original['DIAS_ATIVO'].std()"
   ]
  },
  {
   "cell_type": "code",
   "execution_count": 14,
   "metadata": {},
   "outputs": [
    {
     "data": {
      "text/html": [
       "<div>\n",
       "<style scoped>\n",
       "    .dataframe tbody tr th:only-of-type {\n",
       "        vertical-align: middle;\n",
       "    }\n",
       "\n",
       "    .dataframe tbody tr th {\n",
       "        vertical-align: top;\n",
       "    }\n",
       "\n",
       "    .dataframe thead th {\n",
       "        text-align: right;\n",
       "    }\n",
       "</style>\n",
       "<table border=\"1\" class=\"dataframe\">\n",
       "  <thead>\n",
       "    <tr style=\"text-align: right;\">\n",
       "      <th></th>\n",
       "      <th>ID_CLIENTE</th>\n",
       "      <th>DIAS_ATIVO</th>\n",
       "      <th>MESES_ATIVO</th>\n",
       "      <th>PRAZO_FINANCIAMENTO</th>\n",
       "      <th>VALOR_TABELA</th>\n",
       "      <th>IDADE_CLIENTE</th>\n",
       "      <th>QT_PC_PAGAS</th>\n",
       "      <th>QT_PC_VENCIDAS</th>\n",
       "      <th>QT_PC_PAGA_ATRASO</th>\n",
       "      <th>QT_PC_PAGA_EM_DIA</th>\n",
       "      <th>VALOR_PARCELAS_ATRASO</th>\n",
       "    </tr>\n",
       "  </thead>\n",
       "  <tbody>\n",
       "    <tr>\n",
       "      <th>count</th>\n",
       "      <td>3.432970e+05</td>\n",
       "      <td>343297.000000</td>\n",
       "      <td>343297.000000</td>\n",
       "      <td>343297.000000</td>\n",
       "      <td>343297.000000</td>\n",
       "      <td>343285.000000</td>\n",
       "      <td>343297.000000</td>\n",
       "      <td>343297.000000</td>\n",
       "      <td>343297.000000</td>\n",
       "      <td>343297.000000</td>\n",
       "      <td>343297.000000</td>\n",
       "    </tr>\n",
       "    <tr>\n",
       "      <th>mean</th>\n",
       "      <td>1.109177e+08</td>\n",
       "      <td>520.941357</td>\n",
       "      <td>16.968756</td>\n",
       "      <td>111.128277</td>\n",
       "      <td>106773.610023</td>\n",
       "      <td>40.330673</td>\n",
       "      <td>4.090432</td>\n",
       "      <td>0.792643</td>\n",
       "      <td>0.579111</td>\n",
       "      <td>3.511321</td>\n",
       "      <td>711.308485</td>\n",
       "    </tr>\n",
       "    <tr>\n",
       "      <th>std</th>\n",
       "      <td>2.173070e+08</td>\n",
       "      <td>379.752907</td>\n",
       "      <td>12.449125</td>\n",
       "      <td>53.600725</td>\n",
       "      <td>83855.559536</td>\n",
       "      <td>12.511816</td>\n",
       "      <td>1.409509</td>\n",
       "      <td>1.337265</td>\n",
       "      <td>0.911053</td>\n",
       "      <td>1.544981</td>\n",
       "      <td>1435.840718</td>\n",
       "    </tr>\n",
       "    <tr>\n",
       "      <th>min</th>\n",
       "      <td>2.906000e+03</td>\n",
       "      <td>22.000000</td>\n",
       "      <td>1.000000</td>\n",
       "      <td>36.000000</td>\n",
       "      <td>20000.000000</td>\n",
       "      <td>0.000000</td>\n",
       "      <td>0.000000</td>\n",
       "      <td>0.000000</td>\n",
       "      <td>0.000000</td>\n",
       "      <td>0.000000</td>\n",
       "      <td>0.000000</td>\n",
       "    </tr>\n",
       "    <tr>\n",
       "      <th>25%</th>\n",
       "      <td>5.999570e+05</td>\n",
       "      <td>170.000000</td>\n",
       "      <td>5.000000</td>\n",
       "      <td>60.000000</td>\n",
       "      <td>80000.000000</td>\n",
       "      <td>31.000000</td>\n",
       "      <td>3.000000</td>\n",
       "      <td>0.000000</td>\n",
       "      <td>0.000000</td>\n",
       "      <td>2.000000</td>\n",
       "      <td>0.000000</td>\n",
       "    </tr>\n",
       "    <tr>\n",
       "      <th>50%</th>\n",
       "      <td>1.935123e+06</td>\n",
       "      <td>405.000000</td>\n",
       "      <td>13.000000</td>\n",
       "      <td>120.000000</td>\n",
       "      <td>80000.000000</td>\n",
       "      <td>39.000000</td>\n",
       "      <td>5.000000</td>\n",
       "      <td>0.000000</td>\n",
       "      <td>0.000000</td>\n",
       "      <td>4.000000</td>\n",
       "      <td>0.000000</td>\n",
       "    </tr>\n",
       "    <tr>\n",
       "      <th>75%</th>\n",
       "      <td>2.991064e+07</td>\n",
       "      <td>841.000000</td>\n",
       "      <td>27.000000</td>\n",
       "      <td>120.000000</td>\n",
       "      <td>80000.000000</td>\n",
       "      <td>48.000000</td>\n",
       "      <td>5.000000</td>\n",
       "      <td>2.000000</td>\n",
       "      <td>1.000000</td>\n",
       "      <td>5.000000</td>\n",
       "      <td>1250.000000</td>\n",
       "    </tr>\n",
       "    <tr>\n",
       "      <th>max</th>\n",
       "      <td>5.711189e+08</td>\n",
       "      <td>1296.000000</td>\n",
       "      <td>42.000000</td>\n",
       "      <td>240.000000</td>\n",
       "      <td>300000.000000</td>\n",
       "      <td>100.000000</td>\n",
       "      <td>100.000000</td>\n",
       "      <td>11.000000</td>\n",
       "      <td>6.000000</td>\n",
       "      <td>100.000000</td>\n",
       "      <td>41667.000000</td>\n",
       "    </tr>\n",
       "  </tbody>\n",
       "</table>\n",
       "</div>"
      ],
      "text/plain": [
       "         ID_CLIENTE     DIAS_ATIVO    MESES_ATIVO  PRAZO_FINANCIAMENTO  \\\n",
       "count  3.432970e+05  343297.000000  343297.000000        343297.000000   \n",
       "mean   1.109177e+08     520.941357      16.968756           111.128277   \n",
       "std    2.173070e+08     379.752907      12.449125            53.600725   \n",
       "min    2.906000e+03      22.000000       1.000000            36.000000   \n",
       "25%    5.999570e+05     170.000000       5.000000            60.000000   \n",
       "50%    1.935123e+06     405.000000      13.000000           120.000000   \n",
       "75%    2.991064e+07     841.000000      27.000000           120.000000   \n",
       "max    5.711189e+08    1296.000000      42.000000           240.000000   \n",
       "\n",
       "        VALOR_TABELA  IDADE_CLIENTE    QT_PC_PAGAS  QT_PC_VENCIDAS  \\\n",
       "count  343297.000000  343285.000000  343297.000000   343297.000000   \n",
       "mean   106773.610023      40.330673       4.090432        0.792643   \n",
       "std     83855.559536      12.511816       1.409509        1.337265   \n",
       "min     20000.000000       0.000000       0.000000        0.000000   \n",
       "25%     80000.000000      31.000000       3.000000        0.000000   \n",
       "50%     80000.000000      39.000000       5.000000        0.000000   \n",
       "75%     80000.000000      48.000000       5.000000        2.000000   \n",
       "max    300000.000000     100.000000     100.000000       11.000000   \n",
       "\n",
       "       QT_PC_PAGA_ATRASO  QT_PC_PAGA_EM_DIA  VALOR_PARCELAS_ATRASO  \n",
       "count      343297.000000      343297.000000          343297.000000  \n",
       "mean            0.579111           3.511321             711.308485  \n",
       "std             0.911053           1.544981            1435.840718  \n",
       "min             0.000000           0.000000               0.000000  \n",
       "25%             0.000000           2.000000               0.000000  \n",
       "50%             0.000000           4.000000               0.000000  \n",
       "75%             1.000000           5.000000            1250.000000  \n",
       "max             6.000000         100.000000           41667.000000  "
      ]
     },
     "execution_count": 14,
     "metadata": {},
     "output_type": "execute_result"
    }
   ],
   "source": [
    "#Comando utilizado para fazer uma analise rápida com medidas estatisticas(Média, Mediana, Desvio Padrão, etc)\n",
    "df_original.describe()"
   ]
  },
  {
   "cell_type": "code",
   "execution_count": 15,
   "metadata": {},
   "outputs": [
    {
     "name": "stdout",
     "output_type": "stream",
     "text": [
      "Valor mínimo:  22\n",
      "Valor máximo:  1296\n",
      "Valor da média: 520.9413569008759\n",
      "Valor da médiana: 405.0\n",
      "Valor da Moda: 0    161\n",
      "Name: DIAS_ATIVO, dtype: int64\n"
     ]
    }
   ],
   "source": [
    "# Outra forma de avaliarmos uma variável especifica e exibirmos a informação. \n",
    "\n",
    "print('Valor mínimo: ', df_original['DIAS_ATIVO'].min())\n",
    "print('Valor máximo: ', df_original['DIAS_ATIVO'].max())\n",
    "print('Valor da média:' , df_original['DIAS_ATIVO'].mean())\n",
    "print('Valor da médiana:', df_original['DIAS_ATIVO'].median())\n",
    "print('Valor da Moda:', df_original['DIAS_ATIVO'].mode())"
   ]
  },
  {
   "cell_type": "code",
   "execution_count": 16,
   "metadata": {},
   "outputs": [
    {
     "data": {
      "text/plain": [
       "Index(['ID_CLIENTE', 'DATA_AQUISICAO', 'DIAS_ATIVO', 'MESES_ATIVO',\n",
       "       'PRAZO_FINANCIAMENTO', 'VALOR_TABELA', 'IDADE_CLIENTE', 'PRODUTO',\n",
       "       'QT_PC_PAGAS', 'QT_PC_VENCIDAS', 'QT_PC_PAGA_ATRASO',\n",
       "       'QT_PC_PAGA_EM_DIA', 'VALOR_PARCELAS_ATRASO'],\n",
       "      dtype='object')"
      ]
     },
     "execution_count": 16,
     "metadata": {},
     "output_type": "execute_result"
    }
   ],
   "source": [
    "#Comando utilizado para listar somente o nome das colunas\n",
    "df_original.columns"
   ]
  },
  {
   "cell_type": "code",
   "execution_count": 17,
   "metadata": {},
   "outputs": [
    {
     "name": "stdout",
     "output_type": "stream",
     "text": [
      "ID_CLIENTE : 342336\n",
      "DATA_AQUISICAO : 1956\n",
      "DIAS_ATIVO : 1050\n",
      "MESES_ATIVO : 42\n",
      "PRAZO_FINANCIAMENTO : 4\n",
      "VALOR_TABELA : 4\n",
      "IDADE_CLIENTE : 100\n",
      "PRODUTO : 4\n",
      "QT_PC_PAGAS : 31\n",
      "QT_PC_VENCIDAS : 12\n",
      "QT_PC_PAGA_ATRASO : 7\n",
      "QT_PC_PAGA_EM_DIA : 30\n",
      "VALOR_PARCELAS_ATRASO : 62\n"
     ]
    }
   ],
   "source": [
    "# Total de valores únicos de cada variável\n",
    "valores_unicos = []\n",
    "for i in df_original.columns[0:14].tolist():\n",
    "    print(i, ':', len(df_original[i].astype(str).value_counts()))\n",
    "    valores_unicos.append(len(df_original[i].astype(str).value_counts()))"
   ]
  },
  {
   "cell_type": "code",
   "execution_count": 18,
   "metadata": {},
   "outputs": [
    {
     "data": {
      "text/plain": [
       "PRODUTO\n",
       "AUTOMOVEIS      245218\n",
       "CAMINHÕES         7156\n",
       "IMOVEIS          48476\n",
       "MOTOCICLETAS     42447\n",
       "dtype: int64"
      ]
     },
     "execution_count": 18,
     "metadata": {},
     "output_type": "execute_result"
    }
   ],
   "source": [
    "#pergunta 1 - Qual a quantidade de clientes que possuem financiamento de cada produto?\n",
    "df_original.groupby(['PRODUTO']).size()"
   ]
  },
  {
   "cell_type": "code",
   "execution_count": 19,
   "metadata": {},
   "outputs": [
    {
     "data": {
      "text/plain": [
       "VALOR_TABELA\n",
       "20000      42447\n",
       "80000     245218\n",
       "230000      7156\n",
       "300000     48476\n",
       "dtype: int64"
      ]
     },
     "execution_count": 19,
     "metadata": {},
     "output_type": "execute_result"
    }
   ],
   "source": [
    "# Pergunta 2 - Qual o menor valor financiado?\n",
    "df_original.groupby(['VALOR_TABELA']).size()"
   ]
  },
  {
   "cell_type": "code",
   "execution_count": 20,
   "metadata": {},
   "outputs": [
    {
     "data": {
      "text/plain": [
       "20000"
      ]
     },
     "execution_count": 20,
     "metadata": {},
     "output_type": "execute_result"
    }
   ],
   "source": [
    "#Também podemos responder a pergunta 2 dessa forma\n",
    "df_original['VALOR_TABELA'].min()"
   ]
  },
  {
   "cell_type": "code",
   "execution_count": 21,
   "metadata": {},
   "outputs": [
    {
     "data": {
      "text/plain": [
       "VALOR_TABELA\n",
       "20000      42447\n",
       "80000     245218\n",
       "230000      7156\n",
       "300000     48476\n",
       "dtype: int64"
      ]
     },
     "execution_count": 21,
     "metadata": {},
     "output_type": "execute_result"
    }
   ],
   "source": [
    "# Pergunta 3 - Qual o maior valor financiado?\n",
    "df_original.groupby(['VALOR_TABELA']).size()"
   ]
  },
  {
   "cell_type": "code",
   "execution_count": 22,
   "metadata": {},
   "outputs": [
    {
     "data": {
      "text/plain": [
       "300000"
      ]
     },
     "execution_count": 22,
     "metadata": {},
     "output_type": "execute_result"
    }
   ],
   "source": [
    "#Também podemos responder a pergunta 3 dessa forma\n",
    "df_original['VALOR_TABELA'].max()"
   ]
  },
  {
   "cell_type": "code",
   "execution_count": 23,
   "metadata": {},
   "outputs": [
    {
     "data": {
      "text/plain": [
       "0.0"
      ]
     },
     "execution_count": 23,
     "metadata": {},
     "output_type": "execute_result"
    }
   ],
   "source": [
    "# Pergunta 4 - Qual o cliente que possui a menor idade?\n",
    "df_original['IDADE_CLIENTE'].min()"
   ]
  },
  {
   "cell_type": "code",
   "execution_count": 24,
   "metadata": {},
   "outputs": [
    {
     "data": {
      "text/plain": [
       "100.0"
      ]
     },
     "execution_count": 24,
     "metadata": {},
     "output_type": "execute_result"
    }
   ],
   "source": [
    "# Pergunta 5 - Qual o cliente que possui a maior idade?\n",
    "df_original['IDADE_CLIENTE'].max()"
   ]
  },
  {
   "cell_type": "code",
   "execution_count": 25,
   "metadata": {},
   "outputs": [
    {
     "data": {
      "image/png": "[encoded data removed]",
      "text/plain": [
       "<Figure size 432x288 with 1 Axes>"
      ]
     },
     "metadata": {
      "needs_background": "light"
     },
     "output_type": "display_data"
    }
   ],
   "source": [
    "# Exibição de um gráfico de BoxPlot\n",
    "sns.boxplot(data = df_original, y = \"DIAS_ATIVO\")\n",
    "plt.show()"
   ]
  },
  {
   "cell_type": "code",
   "execution_count": 26,
   "metadata": {},
   "outputs": [
    {
     "data": {
      "image/png": "[encoded data removed]",
      "text/plain": [
       "<Figure size 432x288 with 1 Axes>"
      ]
     },
     "metadata": {
      "needs_background": "light"
     },
     "output_type": "display_data"
    }
   ],
   "source": [
    "# Exibição de um gráfico de histograma\n",
    "sns.histplot(data = df_original, x = \"DIAS_ATIVO\")\n",
    "plt.show()"
   ]
  },
  {
   "cell_type": "code",
   "execution_count": 27,
   "metadata": {},
   "outputs": [
    {
     "data": {
      "image/png": "[encoded data removed]",
      "text/plain": [
       "<Figure size 432x288 with 1 Axes>"
      ]
     },
     "metadata": {
      "needs_background": "light"
     },
     "output_type": "display_data"
    }
   ],
   "source": [
    "# Gráfico simples para verificarmos a quantidade de financiamentos por prazo\n",
    "sns.countplot(data = df_original, x = \"PRAZO_FINANCIAMENTO\")\n",
    "plt.show()"
   ]
  },
  {
   "cell_type": "code",
   "execution_count": 28,
   "metadata": {},
   "outputs": [
    {
     "data": {
      "image/png": "[encoded data removed]",
      "text/plain": [
       "<Figure size 432x288 with 1 Axes>"
      ]
     },
     "metadata": {
      "needs_background": "light"
     },
     "output_type": "display_data"
    }
   ],
   "source": [
    "# Gráfico simples para verificarmos a quantidade de financiamentos por valor de tabela\n",
    "sns.countplot(data = df_original, x = \"VALOR_TABELA\")\n",
    "plt.show()"
   ]
  },
  {
   "cell_type": "code",
   "execution_count": 29,
   "metadata": {},
   "outputs": [
    {
     "data": {
      "image/png": "[encoded data removed]",
      "text/plain": [
       "<Figure size 432x288 with 1 Axes>"
      ]
     },
     "metadata": {
      "needs_background": "light"
     },
     "output_type": "display_data"
    }
   ],
   "source": [
    "# Também podemos visualizar através do gráfico\n",
    "sns.countplot(data = df_original, x = \"VALOR_TABELA\", hue='PRODUTO')\n",
    "plt.show()"
   ]
  },
  {
   "cell_type": "code",
   "execution_count": null,
   "metadata": {},
   "outputs": [],
   "source": []
  }
 ],
 "metadata": {
  "kernelspec": {
   "display_name": "Python 3 (ipykernel)",
   "language": "python",
   "name": "python3"
  },
  "language_info": {
   "codemirror_mode": {
    "name": "ipython",
    "version": 3
   },
   "file_extension": ".py",
   "mimetype": "text/x-python",
   "name": "python",
   "nbconvert_exporter": "python",
   "pygments_lexer": "ipython3",
   "version": "3.9.13"
  }
 },
 "nbformat": 4,
 "nbformat_minor": 4
}
