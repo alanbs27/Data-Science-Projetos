{
 "cells": [
  {
   "cell_type": "markdown",
   "id": "d08fae0b",
   "metadata": {},
   "source": [
    "# Machine Learning Scikit-Learn"
   ]
  },
  {
   "cell_type": "markdown",
   "id": "2cd18ce4",
   "metadata": {},
   "source": [
    "# Problema de Negócio:\n",
    "    Usando dados históricos é possivel prever o salário de alguém com base no tempo dedicado aos estudos em horas \n",
    "    por mês?"
   ]
  },
  {
   "cell_type": "code",
   "execution_count": 1,
   "id": "2dc9b9f8",
   "metadata": {},
   "outputs": [],
   "source": [
    "# Importações necessárias\n",
    "import numpy as np\n",
    "import pandas as pd\n",
    "import matplotlib.pyplot as plt\n",
    "import seaborn as sns\n",
    "from sklearn.linear_model import LinearRegression\n",
    "from sklearn.model_selection import train_test_split"
   ]
  },
  {
   "cell_type": "markdown",
   "id": "3929e328",
   "metadata": {},
   "source": [
    "# Carregando dos dados"
   ]
  },
  {
   "cell_type": "code",
   "execution_count": 2,
   "id": "e32837ca",
   "metadata": {},
   "outputs": [],
   "source": [
    "#carregando o dataset\n",
    "df = pd.read_csv('dataset.csv')"
   ]
  },
  {
   "cell_type": "code",
   "execution_count": 3,
   "id": "14b796e6",
   "metadata": {},
   "outputs": [
    {
     "data": {
      "text/plain": [
       "(500, 2)"
      ]
     },
     "execution_count": 3,
     "metadata": {},
     "output_type": "execute_result"
    }
   ],
   "source": [
    "# verifica a quantidade de linhas e colunas da tabela\n",
    "df.shape"
   ]
  },
  {
   "cell_type": "code",
   "execution_count": 4,
   "id": "0cd0c906",
   "metadata": {},
   "outputs": [
    {
     "data": {
      "text/plain": [
       "Index(['horas_estudo_mes', 'salario'], dtype='object')"
      ]
     },
     "execution_count": 4,
     "metadata": {},
     "output_type": "execute_result"
    }
   ],
   "source": [
    "# verificação das colunas da tabela\n",
    "df.columns"
   ]
  },
  {
   "cell_type": "code",
   "execution_count": 5,
   "id": "c088a118",
   "metadata": {},
   "outputs": [
    {
     "data": {
      "text/html": [
       "<div>\n",
       "<style scoped>\n",
       "    .dataframe tbody tr th:only-of-type {\n",
       "        vertical-align: middle;\n",
       "    }\n",
       "\n",
       "    .dataframe tbody tr th {\n",
       "        vertical-align: top;\n",
       "    }\n",
       "\n",
       "    .dataframe thead th {\n",
       "        text-align: right;\n",
       "    }\n",
       "</style>\n",
       "<table border=\"1\" class=\"dataframe\">\n",
       "  <thead>\n",
       "    <tr style=\"text-align: right;\">\n",
       "      <th></th>\n",
       "      <th>horas_estudo_mes</th>\n",
       "      <th>salario</th>\n",
       "    </tr>\n",
       "  </thead>\n",
       "  <tbody>\n",
       "    <tr>\n",
       "      <th>0</th>\n",
       "      <td>57.0</td>\n",
       "      <td>6813.0</td>\n",
       "    </tr>\n",
       "    <tr>\n",
       "      <th>1</th>\n",
       "      <td>48.0</td>\n",
       "      <td>6855.0</td>\n",
       "    </tr>\n",
       "    <tr>\n",
       "      <th>2</th>\n",
       "      <td>60.0</td>\n",
       "      <td>5801.0</td>\n",
       "    </tr>\n",
       "    <tr>\n",
       "      <th>3</th>\n",
       "      <td>73.0</td>\n",
       "      <td>7431.0</td>\n",
       "    </tr>\n",
       "    <tr>\n",
       "      <th>4</th>\n",
       "      <td>46.0</td>\n",
       "      <td>5475.0</td>\n",
       "    </tr>\n",
       "  </tbody>\n",
       "</table>\n",
       "</div>"
      ],
      "text/plain": [
       "   horas_estudo_mes  salario\n",
       "0              57.0   6813.0\n",
       "1              48.0   6855.0\n",
       "2              60.0   5801.0\n",
       "3              73.0   7431.0\n",
       "4              46.0   5475.0"
      ]
     },
     "execution_count": 5,
     "metadata": {},
     "output_type": "execute_result"
    }
   ],
   "source": [
    "# obtendo as primeiras linhas da tabela\n",
    "df.head(5)"
   ]
  },
  {
   "cell_type": "code",
   "execution_count": 6,
   "id": "8f529adb",
   "metadata": {},
   "outputs": [
    {
     "name": "stdout",
     "output_type": "stream",
     "text": [
      "<class 'pandas.core.frame.DataFrame'>\n",
      "RangeIndex: 500 entries, 0 to 499\n",
      "Data columns (total 2 columns):\n",
      " #   Column            Non-Null Count  Dtype  \n",
      "---  ------            --------------  -----  \n",
      " 0   horas_estudo_mes  500 non-null    float64\n",
      " 1   salario           500 non-null    float64\n",
      "dtypes: float64(2)\n",
      "memory usage: 7.9 KB\n"
     ]
    }
   ],
   "source": [
    "# Exibe as informações gerais da tabela\n",
    "df.info()"
   ]
  },
  {
   "cell_type": "code",
   "execution_count": 7,
   "id": "010f14d5",
   "metadata": {},
   "outputs": [
    {
     "data": {
      "text/plain": [
       "horas_estudo_mes    0\n",
       "salario             0\n",
       "dtype: int64"
      ]
     },
     "execution_count": 7,
     "metadata": {},
     "output_type": "execute_result"
    }
   ],
   "source": [
    "# Verifica se existe valores ausentes no dataset\n",
    "df.isnull().sum()"
   ]
  },
  {
   "cell_type": "code",
   "execution_count": 8,
   "id": "766b6765",
   "metadata": {},
   "outputs": [
    {
     "data": {
      "text/html": [
       "<div>\n",
       "<style scoped>\n",
       "    .dataframe tbody tr th:only-of-type {\n",
       "        vertical-align: middle;\n",
       "    }\n",
       "\n",
       "    .dataframe tbody tr th {\n",
       "        vertical-align: top;\n",
       "    }\n",
       "\n",
       "    .dataframe thead th {\n",
       "        text-align: right;\n",
       "    }\n",
       "</style>\n",
       "<table border=\"1\" class=\"dataframe\">\n",
       "  <thead>\n",
       "    <tr style=\"text-align: right;\">\n",
       "      <th></th>\n",
       "      <th>horas_estudo_mes</th>\n",
       "      <th>salario</th>\n",
       "    </tr>\n",
       "  </thead>\n",
       "  <tbody>\n",
       "    <tr>\n",
       "      <th>horas_estudo_mes</th>\n",
       "      <td>1.000000</td>\n",
       "      <td>0.818576</td>\n",
       "    </tr>\n",
       "    <tr>\n",
       "      <th>salario</th>\n",
       "      <td>0.818576</td>\n",
       "      <td>1.000000</td>\n",
       "    </tr>\n",
       "  </tbody>\n",
       "</table>\n",
       "</div>"
      ],
      "text/plain": [
       "                  horas_estudo_mes   salario\n",
       "horas_estudo_mes          1.000000  0.818576\n",
       "salario                   0.818576  1.000000"
      ]
     },
     "execution_count": 8,
     "metadata": {},
     "output_type": "execute_result"
    }
   ],
   "source": [
    "# Correlação entre os dados\n",
    "df.corr()"
   ]
  },
  {
   "cell_type": "code",
   "execution_count": 9,
   "id": "3200b802",
   "metadata": {},
   "outputs": [
    {
     "data": {
      "text/html": [
       "<div>\n",
       "<style scoped>\n",
       "    .dataframe tbody tr th:only-of-type {\n",
       "        vertical-align: middle;\n",
       "    }\n",
       "\n",
       "    .dataframe tbody tr th {\n",
       "        vertical-align: top;\n",
       "    }\n",
       "\n",
       "    .dataframe thead th {\n",
       "        text-align: right;\n",
       "    }\n",
       "</style>\n",
       "<table border=\"1\" class=\"dataframe\">\n",
       "  <thead>\n",
       "    <tr style=\"text-align: right;\">\n",
       "      <th></th>\n",
       "      <th>horas_estudo_mes</th>\n",
       "      <th>salario</th>\n",
       "    </tr>\n",
       "  </thead>\n",
       "  <tbody>\n",
       "    <tr>\n",
       "      <th>count</th>\n",
       "      <td>500.000000</td>\n",
       "      <td>500.000000</td>\n",
       "    </tr>\n",
       "    <tr>\n",
       "      <th>mean</th>\n",
       "      <td>50.060000</td>\n",
       "      <td>6018.930000</td>\n",
       "    </tr>\n",
       "    <tr>\n",
       "      <th>std</th>\n",
       "      <td>14.659406</td>\n",
       "      <td>848.697853</td>\n",
       "    </tr>\n",
       "    <tr>\n",
       "      <th>min</th>\n",
       "      <td>1.000000</td>\n",
       "      <td>3664.000000</td>\n",
       "    </tr>\n",
       "    <tr>\n",
       "      <th>25%</th>\n",
       "      <td>39.750000</td>\n",
       "      <td>5473.000000</td>\n",
       "    </tr>\n",
       "    <tr>\n",
       "      <th>50%</th>\n",
       "      <td>50.000000</td>\n",
       "      <td>6013.500000</td>\n",
       "    </tr>\n",
       "    <tr>\n",
       "      <th>75%</th>\n",
       "      <td>60.000000</td>\n",
       "      <td>6542.000000</td>\n",
       "    </tr>\n",
       "    <tr>\n",
       "      <th>max</th>\n",
       "      <td>100.000000</td>\n",
       "      <td>9348.000000</td>\n",
       "    </tr>\n",
       "  </tbody>\n",
       "</table>\n",
       "</div>"
      ],
      "text/plain": [
       "       horas_estudo_mes      salario\n",
       "count        500.000000   500.000000\n",
       "mean          50.060000  6018.930000\n",
       "std           14.659406   848.697853\n",
       "min            1.000000  3664.000000\n",
       "25%           39.750000  5473.000000\n",
       "50%           50.000000  6013.500000\n",
       "75%           60.000000  6542.000000\n",
       "max          100.000000  9348.000000"
      ]
     },
     "execution_count": 9,
     "metadata": {},
     "output_type": "execute_result"
    }
   ],
   "source": [
    "# Resumo estatisico do dataset\n",
    "df.describe()"
   ]
  },
  {
   "cell_type": "code",
   "execution_count": 10,
   "id": "81739968",
   "metadata": {},
   "outputs": [
    {
     "data": {
      "text/plain": [
       "count    500.000000\n",
       "mean      50.060000\n",
       "std       14.659406\n",
       "min        1.000000\n",
       "25%       39.750000\n",
       "50%       50.000000\n",
       "75%       60.000000\n",
       "max      100.000000\n",
       "Name: horas_estudo_mes, dtype: float64"
      ]
     },
     "execution_count": 10,
     "metadata": {},
     "output_type": "execute_result"
    }
   ],
   "source": [
    "# Resumo estatistico da variável preditora\n",
    "df['horas_estudo_mes'].describe()"
   ]
  },
  {
   "cell_type": "code",
   "execution_count": 12,
   "id": "b400dfc3",
   "metadata": {},
   "outputs": [
    {
     "data": {
      "image/png": "[encoded data removed]",
      "text/plain": [
       "<Figure size 640x480 with 1 Axes>"
      ]
     },
     "metadata": {},
     "output_type": "display_data"
    }
   ],
   "source": [
    "# Histograma da variavel preditora\n",
    "sns.histplot(data = df, x = 'horas_estudo_mes', kde = True);"
   ]
  },
  {
   "cell_type": "markdown",
   "id": "6abf3f16",
   "metadata": {},
   "source": [
    "# Preparação dos Dados"
   ]
  },
  {
   "cell_type": "code",
   "execution_count": 13,
   "id": "a05eecb0",
   "metadata": {},
   "outputs": [],
   "source": [
    "# Preparando a variavel de entrada\n",
    "x = np.array(df['horas_estudo_mes'])"
   ]
  },
  {
   "cell_type": "code",
   "execution_count": 14,
   "id": "b3d14117",
   "metadata": {},
   "outputs": [
    {
     "data": {
      "text/plain": [
       "numpy.ndarray"
      ]
     },
     "execution_count": 14,
     "metadata": {},
     "output_type": "execute_result"
    }
   ],
   "source": [
    "# Verifica o tipo criado\n",
    "type(x)"
   ]
  },
  {
   "cell_type": "code",
   "execution_count": 15,
   "id": "9526be2f",
   "metadata": {},
   "outputs": [],
   "source": [
    "# Ajusta o shape de x para a análise\n",
    "x = x.reshape(-1, 1)"
   ]
  },
  {
   "cell_type": "code",
   "execution_count": 16,
   "id": "9e9e4453",
   "metadata": {},
   "outputs": [],
   "source": [
    "# Prepara a variavel alvo\n",
    "y = df['salario']"
   ]
  },
  {
   "cell_type": "code",
   "execution_count": 17,
   "id": "cbcb7f91",
   "metadata": {},
   "outputs": [
    {
     "data": {
      "image/png": "[encoded data removed]",
      "text/plain": [
       "<Figure size 640x480 with 1 Axes>"
      ]
     },
     "metadata": {},
     "output_type": "display_data"
    }
   ],
   "source": [
    "# Gráfikco dr dispersão entre x e y\n",
    "plt.scatter(x, y, color = \"blue\", label = 'Dados Reais Historicos')\n",
    "plt.xlabel(\"Horas de Estudo\")\n",
    "plt.ylabel(\"Salário\")\n",
    "plt.legend()\n",
    "plt.show()"
   ]
  },
  {
   "cell_type": "code",
   "execution_count": 18,
   "id": "cb9bf086",
   "metadata": {},
   "outputs": [],
   "source": [
    "# Dividir dados em treinamento e teste\n",
    "x_treino, x_teste, y_treino, y_teste = train_test_split(x, y, test_size = 0.2, random_state = 42)\n"
   ]
  },
  {
   "cell_type": "code",
   "execution_count": 19,
   "id": "0db524ec",
   "metadata": {},
   "outputs": [
    {
     "data": {
      "text/plain": [
       "(400, 1)"
      ]
     },
     "execution_count": 19,
     "metadata": {},
     "output_type": "execute_result"
    }
   ],
   "source": [
    "x_treino.shape"
   ]
  },
  {
   "cell_type": "code",
   "execution_count": 20,
   "id": "7431fc27",
   "metadata": {},
   "outputs": [
    {
     "data": {
      "text/plain": [
       "(100, 1)"
      ]
     },
     "execution_count": 20,
     "metadata": {},
     "output_type": "execute_result"
    }
   ],
   "source": [
    "x_teste.shape"
   ]
  },
  {
   "cell_type": "code",
   "execution_count": 21,
   "id": "7e09af98",
   "metadata": {},
   "outputs": [
    {
     "data": {
      "text/plain": [
       "(400,)"
      ]
     },
     "execution_count": 21,
     "metadata": {},
     "output_type": "execute_result"
    }
   ],
   "source": [
    "y_treino.shape"
   ]
  },
  {
   "cell_type": "code",
   "execution_count": 22,
   "id": "d38a2bd7",
   "metadata": {},
   "outputs": [
    {
     "data": {
      "text/plain": [
       "(100,)"
      ]
     },
     "execution_count": 22,
     "metadata": {},
     "output_type": "execute_result"
    }
   ],
   "source": [
    "y_teste.shape"
   ]
  },
  {
   "cell_type": "markdown",
   "id": "b697668f",
   "metadata": {},
   "source": [
    "#  Modelagem Preditiva (Machine Learn)"
   ]
  },
  {
   "cell_type": "code",
   "execution_count": 23,
   "id": "f1fa0e69",
   "metadata": {},
   "outputs": [],
   "source": [
    "# Cria um modelo de regressão linear simples\n",
    "modelo = LinearRegression()"
   ]
  },
  {
   "cell_type": "code",
   "execution_count": 24,
   "id": "632d984e",
   "metadata": {},
   "outputs": [
    {
     "data": {
      "text/plain": [
       "LinearRegression()"
      ]
     },
     "execution_count": 24,
     "metadata": {},
     "output_type": "execute_result"
    }
   ],
   "source": [
    "# Treina o modelo\n",
    "modelo.fit(x_treino, y_treino)"
   ]
  },
  {
   "cell_type": "code",
   "execution_count": 25,
   "id": "af2875d8",
   "metadata": {},
   "outputs": [
    {
     "data": {
      "image/png": "[encoded data removed]",
      "text/plain": [
       "<Figure size 640x480 with 1 Axes>"
      ]
     },
     "metadata": {},
     "output_type": "display_data"
    }
   ],
   "source": [
    "# Visualiza a reta da regressão linear(previsões) e os dados \n",
    "plt.scatter(x, y, color = 'blue', label = \"Dados Reais Historicos\")\n",
    "plt.plot(x, modelo.predict(x), color = \"red\", label = \"Reta de Regressão com as Previsões do Modelo\")\n",
    "plt.xlabel(\"Horas de Estudo\")\n",
    "plt.ylabel(\"Salário\")\n",
    "plt.legend()\n",
    "plt.show()"
   ]
  },
  {
   "cell_type": "code",
   "execution_count": 26,
   "id": "4d0dad4c",
   "metadata": {},
   "outputs": [
    {
     "name": "stdout",
     "output_type": "stream",
     "text": [
      "Coeficiente R^2: 0.59\n"
     ]
    }
   ],
   "source": [
    "# Avalia o modelo nos dados de teste\n",
    "score = modelo.score(x_teste, y_teste)\n",
    "print(f\"Coeficiente R^2: {score:.2f}\")"
   ]
  },
  {
   "cell_type": "code",
   "execution_count": 27,
   "id": "55e72a9e",
   "metadata": {},
   "outputs": [
    {
     "data": {
      "text/plain": [
       "3596.7837243727527"
      ]
     },
     "execution_count": 27,
     "metadata": {},
     "output_type": "execute_result"
    }
   ],
   "source": [
    "# Intercrepto - parâmetro W0\n",
    "modelo.intercept_"
   ]
  },
  {
   "cell_type": "code",
   "execution_count": 28,
   "id": "6721f42a",
   "metadata": {},
   "outputs": [
    {
     "data": {
      "text/plain": [
       "array([48.18185277])"
      ]
     },
     "execution_count": 28,
     "metadata": {},
     "output_type": "execute_result"
    }
   ],
   "source": [
    "# Slope - parâmetro W1\n",
    "modelo.coef_"
   ]
  },
  {
   "cell_type": "markdown",
   "id": "619ae95a",
   "metadata": {},
   "source": [
    "# Deploy do Modelo"
   ]
  },
  {
   "cell_type": "code",
   "execution_count": 29,
   "id": "d7d09711",
   "metadata": {},
   "outputs": [
    {
     "name": "stdout",
     "output_type": "stream",
     "text": [
      "Se você estudar cerca de [[48]] horas por mês seu salário pode ser igual a [5909.5126574]\n"
     ]
    }
   ],
   "source": [
    "# Define um novo valor para horas de estudo\n",
    "horas_estudo_novo = np.array([[48]])\n",
    "\n",
    "# Faz a previsão com o modelo treinado\n",
    "salario_previsto = modelo.predict(horas_estudo_novo)\n",
    "\n",
    "print(f\"Se você estudar cerca de {horas_estudo_novo} horas por mês seu salário pode ser igual a {salario_previsto}\")"
   ]
  },
  {
   "cell_type": "code",
   "execution_count": 30,
   "id": "e890ac63",
   "metadata": {},
   "outputs": [
    {
     "name": "stdout",
     "output_type": "stream",
     "text": [
      "[[5909.5126574]]\n"
     ]
    }
   ],
   "source": [
    "# O mesmo resultado anterior usando os parâmetros (coeficientes)\n",
    "# y_novo = W0 + W1 * X\n",
    "salario = modelo.intercept_ + (modelo.coef_ * horas_estudo_novo)\n",
    "print(salario)"
   ]
  },
  {
   "cell_type": "code",
   "execution_count": 31,
   "id": "c353fd99",
   "metadata": {},
   "outputs": [
    {
     "name": "stdout",
     "output_type": "stream",
     "text": [
      "Se você estudar cerca de [[65]] horas por mês, seu salário poderá ser igual a [6728.60415452]\n"
     ]
    }
   ],
   "source": [
    "# Define um novo valor para horas de estudo\n",
    "horas_estudo_novo = np.array([[65]])\n",
    "\n",
    "# Faz previsão com o modelo treinado\n",
    "salario_previsto = modelo.predict(horas_estudo_novo)\n",
    "print(f\"Se você estudar cerca de {horas_estudo_novo} horas por mês, seu salário poderá ser igual a {salario_previsto}\")"
   ]
  },
  {
   "cell_type": "code",
   "execution_count": 32,
   "id": "569777c8",
   "metadata": {},
   "outputs": [
    {
     "name": "stdout",
     "output_type": "stream",
     "text": [
      "Se você estudar cerca de [[73]] horas por mês, seu salário poderá ser igual a [7114.05897669]\n"
     ]
    }
   ],
   "source": [
    "# Definição de um novo valor para horas de estudo\n",
    "horas_estudo_novo = np.array([[73]])\n",
    "\n",
    "# Faz previsão com o modelo treinado\n",
    "salario_previsto = modelo.predict(horas_estudo_novo)\n",
    "print(f\"Se você estudar cerca de {horas_estudo_novo} horas por mês, seu salário poderá ser igual a {salario_previsto}\")"
   ]
  },
  {
   "cell_type": "markdown",
   "id": "5a2f9981",
   "metadata": {},
   "source": [
    "# Fim"
   ]
  }
 ],
 "metadata": {
  "kernelspec": {
   "display_name": "Python 3 (ipykernel)",
   "language": "python",
   "name": "python3"
  },
  "language_info": {
   "codemirror_mode": {
    "name": "ipython",
    "version": 3
   },
   "file_extension": ".py",
   "mimetype": "text/x-python",
   "name": "python",
   "nbconvert_exporter": "python",
   "pygments_lexer": "ipython3",
   "version": "3.9.13"
  }
 },
 "nbformat": 4,
 "nbformat_minor": 5
}
