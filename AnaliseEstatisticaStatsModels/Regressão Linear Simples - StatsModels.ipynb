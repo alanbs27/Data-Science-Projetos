{
 "cells": [
  {
   "cell_type": "markdown",
   "id": "0a5c5ca5",
   "metadata": {},
   "source": [
    "# Projeto de Análise estatística com Statsmodels"
   ]
  },
  {
   "cell_type": "code",
   "execution_count": null,
   "id": "e59b54f5",
   "metadata": {},
   "outputs": [],
   "source": []
  },
  {
   "cell_type": "markdown",
   "id": "647eb570",
   "metadata": {},
   "source": [
    "## Problema de Negócio:\n",
    "\n",
    " Existe alguma relação entre a área de imóveis (em metros quadrados) e o valor do aluguel em uma determinada cidade? Caso exista relação, como podemos mensurá-la?"
   ]
  },
  {
   "cell_type": "code",
   "execution_count": 2,
   "id": "728ea3ae",
   "metadata": {},
   "outputs": [],
   "source": [
    "# Imports\n",
    "import pandas as pd\n",
    "import matplotlib.pyplot as plt\n",
    "import seaborn as sns\n",
    "import statsmodels.api as sm"
   ]
  },
  {
   "cell_type": "markdown",
   "id": "e716c372",
   "metadata": {},
   "source": [
    "## Carregando os Dados"
   ]
  },
  {
   "cell_type": "code",
   "execution_count": 4,
   "id": "4b2ca750",
   "metadata": {},
   "outputs": [],
   "source": [
    "# Carrega o dataset\n",
    "df = pd.read_csv('dataset.csv')"
   ]
  },
  {
   "cell_type": "code",
   "execution_count": 5,
   "id": "ea643612",
   "metadata": {},
   "outputs": [
    {
     "data": {
      "text/plain": [
       "(3000, 7)"
      ]
     },
     "execution_count": 5,
     "metadata": {},
     "output_type": "execute_result"
    }
   ],
   "source": [
    "df.shape"
   ]
  },
  {
   "cell_type": "code",
   "execution_count": 10,
   "id": "0420aff6",
   "metadata": {},
   "outputs": [
    {
     "data": {
      "text/plain": [
       "valor_aluguel        2662\n",
       "area_m2               132\n",
       "ano_construcao         66\n",
       "codigo_localidade       3\n",
       "numero_banheiros        2\n",
       "numero_cozinhas         2\n",
       "codigo_bairro         336\n",
       "dtype: int64"
      ]
     },
     "execution_count": 10,
     "metadata": {},
     "output_type": "execute_result"
    }
   ],
   "source": [
    "df.nunique()"
   ]
  },
  {
   "cell_type": "code",
   "execution_count": 11,
   "id": "5df2d09e",
   "metadata": {},
   "outputs": [
    {
     "data": {
      "text/html": [
       "<div>\n",
       "<style scoped>\n",
       "    .dataframe tbody tr th:only-of-type {\n",
       "        vertical-align: middle;\n",
       "    }\n",
       "\n",
       "    .dataframe tbody tr th {\n",
       "        vertical-align: top;\n",
       "    }\n",
       "\n",
       "    .dataframe thead th {\n",
       "        text-align: right;\n",
       "    }\n",
       "</style>\n",
       "<table border=\"1\" class=\"dataframe\">\n",
       "  <thead>\n",
       "    <tr style=\"text-align: right;\">\n",
       "      <th></th>\n",
       "      <th>valor_aluguel</th>\n",
       "      <th>area_m2</th>\n",
       "      <th>ano_construcao</th>\n",
       "      <th>codigo_localidade</th>\n",
       "      <th>numero_banheiros</th>\n",
       "      <th>numero_cozinhas</th>\n",
       "      <th>codigo_bairro</th>\n",
       "    </tr>\n",
       "  </thead>\n",
       "  <tbody>\n",
       "    <tr>\n",
       "      <th>0</th>\n",
       "      <td>120.97436</td>\n",
       "      <td>35</td>\n",
       "      <td>1939</td>\n",
       "      <td>1</td>\n",
       "      <td>0</td>\n",
       "      <td>0</td>\n",
       "      <td>1112</td>\n",
       "    </tr>\n",
       "    <tr>\n",
       "      <th>1</th>\n",
       "      <td>436.97433</td>\n",
       "      <td>104</td>\n",
       "      <td>1939</td>\n",
       "      <td>1</td>\n",
       "      <td>1</td>\n",
       "      <td>0</td>\n",
       "      <td>1112</td>\n",
       "    </tr>\n",
       "    <tr>\n",
       "      <th>2</th>\n",
       "      <td>355.74360</td>\n",
       "      <td>29</td>\n",
       "      <td>1971</td>\n",
       "      <td>2</td>\n",
       "      <td>0</td>\n",
       "      <td>0</td>\n",
       "      <td>2114</td>\n",
       "    </tr>\n",
       "    <tr>\n",
       "      <th>3</th>\n",
       "      <td>282.92310</td>\n",
       "      <td>39</td>\n",
       "      <td>1972</td>\n",
       "      <td>2</td>\n",
       "      <td>0</td>\n",
       "      <td>0</td>\n",
       "      <td>2148</td>\n",
       "    </tr>\n",
       "    <tr>\n",
       "      <th>4</th>\n",
       "      <td>807.23080</td>\n",
       "      <td>97</td>\n",
       "      <td>1985</td>\n",
       "      <td>1</td>\n",
       "      <td>0</td>\n",
       "      <td>0</td>\n",
       "      <td>2222</td>\n",
       "    </tr>\n",
       "  </tbody>\n",
       "</table>\n",
       "</div>"
      ],
      "text/plain": [
       "   valor_aluguel  area_m2  ano_construcao  codigo_localidade  \\\n",
       "0      120.97436       35            1939                  1   \n",
       "1      436.97433      104            1939                  1   \n",
       "2      355.74360       29            1971                  2   \n",
       "3      282.92310       39            1972                  2   \n",
       "4      807.23080       97            1985                  1   \n",
       "\n",
       "   numero_banheiros  numero_cozinhas  codigo_bairro  \n",
       "0                 0                0           1112  \n",
       "1                 1                0           1112  \n",
       "2                 0                0           2114  \n",
       "3                 0                0           2148  \n",
       "4                 0                0           2222  "
      ]
     },
     "execution_count": 11,
     "metadata": {},
     "output_type": "execute_result"
    }
   ],
   "source": [
    "df.head()"
   ]
  },
  {
   "cell_type": "code",
   "execution_count": 12,
   "id": "50082db2",
   "metadata": {},
   "outputs": [
    {
     "name": "stdout",
     "output_type": "stream",
     "text": [
      "<class 'pandas.core.frame.DataFrame'>\n",
      "RangeIndex: 3000 entries, 0 to 2999\n",
      "Data columns (total 7 columns):\n",
      " #   Column             Non-Null Count  Dtype  \n",
      "---  ------             --------------  -----  \n",
      " 0   valor_aluguel      3000 non-null   float64\n",
      " 1   area_m2            3000 non-null   int64  \n",
      " 2   ano_construcao     3000 non-null   int64  \n",
      " 3   codigo_localidade  3000 non-null   int64  \n",
      " 4   numero_banheiros   3000 non-null   int64  \n",
      " 5   numero_cozinhas    3000 non-null   int64  \n",
      " 6   codigo_bairro      3000 non-null   int64  \n",
      "dtypes: float64(1), int64(6)\n",
      "memory usage: 164.2 KB\n"
     ]
    }
   ],
   "source": [
    "#Exibe as informações gerais dos dados\n",
    "df.info()"
   ]
  },
  {
   "cell_type": "markdown",
   "id": "f2f24ba2",
   "metadata": {},
   "source": [
    "## Análise Exploratória e Análise Estatística"
   ]
  },
  {
   "cell_type": "code",
   "execution_count": 14,
   "id": "e4558f7b",
   "metadata": {},
   "outputs": [
    {
     "data": {
      "text/plain": [
       "valor_aluguel        0\n",
       "area_m2              0\n",
       "ano_construcao       0\n",
       "codigo_localidade    0\n",
       "numero_banheiros     0\n",
       "numero_cozinhas      0\n",
       "codigo_bairro        0\n",
       "dtype: int64"
      ]
     },
     "execution_count": 14,
     "metadata": {},
     "output_type": "execute_result"
    }
   ],
   "source": [
    "#Verifica se há valores nulos\n",
    "df.isnull().sum()"
   ]
  },
  {
   "cell_type": "code",
   "execution_count": 15,
   "id": "9a900bc0",
   "metadata": {},
   "outputs": [
    {
     "data": {
      "text/html": [
       "<div>\n",
       "<style scoped>\n",
       "    .dataframe tbody tr th:only-of-type {\n",
       "        vertical-align: middle;\n",
       "    }\n",
       "\n",
       "    .dataframe tbody tr th {\n",
       "        vertical-align: top;\n",
       "    }\n",
       "\n",
       "    .dataframe thead th {\n",
       "        text-align: right;\n",
       "    }\n",
       "</style>\n",
       "<table border=\"1\" class=\"dataframe\">\n",
       "  <thead>\n",
       "    <tr style=\"text-align: right;\">\n",
       "      <th></th>\n",
       "      <th>valor_aluguel</th>\n",
       "      <th>area_m2</th>\n",
       "      <th>ano_construcao</th>\n",
       "      <th>codigo_localidade</th>\n",
       "      <th>numero_banheiros</th>\n",
       "      <th>numero_cozinhas</th>\n",
       "      <th>codigo_bairro</th>\n",
       "    </tr>\n",
       "  </thead>\n",
       "  <tbody>\n",
       "    <tr>\n",
       "      <th>count</th>\n",
       "      <td>3000.000000</td>\n",
       "      <td>3000.000000</td>\n",
       "      <td>3000.000000</td>\n",
       "      <td>3000.000000</td>\n",
       "      <td>3000.000000</td>\n",
       "      <td>3000.000000</td>\n",
       "      <td>3000.000000</td>\n",
       "    </tr>\n",
       "    <tr>\n",
       "      <th>mean</th>\n",
       "      <td>459.643146</td>\n",
       "      <td>67.363333</td>\n",
       "      <td>1956.321333</td>\n",
       "      <td>1.441000</td>\n",
       "      <td>0.061333</td>\n",
       "      <td>0.042000</td>\n",
       "      <td>1173.798667</td>\n",
       "    </tr>\n",
       "    <tr>\n",
       "      <th>std</th>\n",
       "      <td>195.865692</td>\n",
       "      <td>23.675758</td>\n",
       "      <td>22.288136</td>\n",
       "      <td>0.545238</td>\n",
       "      <td>0.239981</td>\n",
       "      <td>0.200623</td>\n",
       "      <td>678.187690</td>\n",
       "    </tr>\n",
       "    <tr>\n",
       "      <th>min</th>\n",
       "      <td>40.512820</td>\n",
       "      <td>20.000000</td>\n",
       "      <td>1918.000000</td>\n",
       "      <td>1.000000</td>\n",
       "      <td>0.000000</td>\n",
       "      <td>0.000000</td>\n",
       "      <td>113.000000</td>\n",
       "    </tr>\n",
       "    <tr>\n",
       "      <th>25%</th>\n",
       "      <td>320.961530</td>\n",
       "      <td>51.000000</td>\n",
       "      <td>1939.000000</td>\n",
       "      <td>1.000000</td>\n",
       "      <td>0.000000</td>\n",
       "      <td>0.000000</td>\n",
       "      <td>561.750000</td>\n",
       "    </tr>\n",
       "    <tr>\n",
       "      <th>50%</th>\n",
       "      <td>426.897435</td>\n",
       "      <td>65.000000</td>\n",
       "      <td>1959.000000</td>\n",
       "      <td>1.000000</td>\n",
       "      <td>0.000000</td>\n",
       "      <td>0.000000</td>\n",
       "      <td>1025.000000</td>\n",
       "    </tr>\n",
       "    <tr>\n",
       "      <th>75%</th>\n",
       "      <td>560.282055</td>\n",
       "      <td>81.000000</td>\n",
       "      <td>1972.000000</td>\n",
       "      <td>2.000000</td>\n",
       "      <td>0.000000</td>\n",
       "      <td>0.000000</td>\n",
       "      <td>1714.000000</td>\n",
       "    </tr>\n",
       "    <tr>\n",
       "      <th>max</th>\n",
       "      <td>1843.384600</td>\n",
       "      <td>160.000000</td>\n",
       "      <td>1997.000000</td>\n",
       "      <td>3.000000</td>\n",
       "      <td>1.000000</td>\n",
       "      <td>1.000000</td>\n",
       "      <td>2529.000000</td>\n",
       "    </tr>\n",
       "  </tbody>\n",
       "</table>\n",
       "</div>"
      ],
      "text/plain": [
       "       valor_aluguel      area_m2  ano_construcao  codigo_localidade  \\\n",
       "count    3000.000000  3000.000000     3000.000000        3000.000000   \n",
       "mean      459.643146    67.363333     1956.321333           1.441000   \n",
       "std       195.865692    23.675758       22.288136           0.545238   \n",
       "min        40.512820    20.000000     1918.000000           1.000000   \n",
       "25%       320.961530    51.000000     1939.000000           1.000000   \n",
       "50%       426.897435    65.000000     1959.000000           1.000000   \n",
       "75%       560.282055    81.000000     1972.000000           2.000000   \n",
       "max      1843.384600   160.000000     1997.000000           3.000000   \n",
       "\n",
       "       numero_banheiros  numero_cozinhas  codigo_bairro  \n",
       "count       3000.000000      3000.000000    3000.000000  \n",
       "mean           0.061333         0.042000    1173.798667  \n",
       "std            0.239981         0.200623     678.187690  \n",
       "min            0.000000         0.000000     113.000000  \n",
       "25%            0.000000         0.000000     561.750000  \n",
       "50%            0.000000         0.000000    1025.000000  \n",
       "75%            0.000000         0.000000    1714.000000  \n",
       "max            1.000000         1.000000    2529.000000  "
      ]
     },
     "execution_count": 15,
     "metadata": {},
     "output_type": "execute_result"
    }
   ],
   "source": [
    "#Resumo estatístico do dataset\n",
    "df.describe()"
   ]
  },
  {
   "cell_type": "code",
   "execution_count": 16,
   "id": "7b926baa",
   "metadata": {},
   "outputs": [
    {
     "data": {
      "text/plain": [
       "count    3000.000000\n",
       "mean      459.643146\n",
       "std       195.865692\n",
       "min        40.512820\n",
       "25%       320.961530\n",
       "50%       426.897435\n",
       "75%       560.282055\n",
       "max      1843.384600\n",
       "Name: valor_aluguel, dtype: float64"
      ]
     },
     "execution_count": 16,
     "metadata": {},
     "output_type": "execute_result"
    }
   ],
   "source": [
    "#Resumo Estatístico da variável alvo\n",
    "df['valor_aluguel'].describe()"
   ]
  },
  {
   "cell_type": "code",
   "execution_count": 18,
   "id": "24574762",
   "metadata": {},
   "outputs": [
    {
     "data": {
      "text/plain": [
       "<AxesSubplot:xlabel='valor_aluguel', ylabel='Count'>"
      ]
     },
     "execution_count": 18,
     "metadata": {},
     "output_type": "execute_result"
    },
    {
     "data": {
      "image/png": "[encoded data removed]",
      "text/plain": [
       "<Figure size 640x480 with 1 Axes>"
      ]
     },
     "metadata": {},
     "output_type": "display_data"
    }
   ],
   "source": [
    "#Histograma da variável alvo\n",
    "sns.histplot(data = df, x = 'valor_aluguel', kde = True)"
   ]
  },
  {
   "cell_type": "code",
   "execution_count": 19,
   "id": "26f131a3",
   "metadata": {},
   "outputs": [
    {
     "data": {
      "text/html": [
       "<div>\n",
       "<style scoped>\n",
       "    .dataframe tbody tr th:only-of-type {\n",
       "        vertical-align: middle;\n",
       "    }\n",
       "\n",
       "    .dataframe tbody tr th {\n",
       "        vertical-align: top;\n",
       "    }\n",
       "\n",
       "    .dataframe thead th {\n",
       "        text-align: right;\n",
       "    }\n",
       "</style>\n",
       "<table border=\"1\" class=\"dataframe\">\n",
       "  <thead>\n",
       "    <tr style=\"text-align: right;\">\n",
       "      <th></th>\n",
       "      <th>valor_aluguel</th>\n",
       "      <th>area_m2</th>\n",
       "      <th>ano_construcao</th>\n",
       "      <th>codigo_localidade</th>\n",
       "      <th>numero_banheiros</th>\n",
       "      <th>numero_cozinhas</th>\n",
       "      <th>codigo_bairro</th>\n",
       "    </tr>\n",
       "  </thead>\n",
       "  <tbody>\n",
       "    <tr>\n",
       "      <th>valor_aluguel</th>\n",
       "      <td>1.000000</td>\n",
       "      <td>0.584878</td>\n",
       "      <td>0.139194</td>\n",
       "      <td>0.172368</td>\n",
       "      <td>0.250261</td>\n",
       "      <td>0.170707</td>\n",
       "      <td>-0.020846</td>\n",
       "    </tr>\n",
       "    <tr>\n",
       "      <th>area_m2</th>\n",
       "      <td>0.584878</td>\n",
       "      <td>1.000000</td>\n",
       "      <td>-0.226581</td>\n",
       "      <td>0.110046</td>\n",
       "      <td>0.226306</td>\n",
       "      <td>0.045716</td>\n",
       "      <td>-0.089050</td>\n",
       "    </tr>\n",
       "    <tr>\n",
       "      <th>ano_construcao</th>\n",
       "      <td>0.139194</td>\n",
       "      <td>-0.226581</td>\n",
       "      <td>1.000000</td>\n",
       "      <td>-0.152206</td>\n",
       "      <td>0.065824</td>\n",
       "      <td>0.109881</td>\n",
       "      <td>0.327983</td>\n",
       "    </tr>\n",
       "    <tr>\n",
       "      <th>codigo_localidade</th>\n",
       "      <td>0.172368</td>\n",
       "      <td>0.110046</td>\n",
       "      <td>-0.152206</td>\n",
       "      <td>1.000000</td>\n",
       "      <td>0.037858</td>\n",
       "      <td>-0.004774</td>\n",
       "      <td>-0.282528</td>\n",
       "    </tr>\n",
       "    <tr>\n",
       "      <th>numero_banheiros</th>\n",
       "      <td>0.250261</td>\n",
       "      <td>0.226306</td>\n",
       "      <td>0.065824</td>\n",
       "      <td>0.037858</td>\n",
       "      <td>1.000000</td>\n",
       "      <td>0.064216</td>\n",
       "      <td>0.043600</td>\n",
       "    </tr>\n",
       "    <tr>\n",
       "      <th>numero_cozinhas</th>\n",
       "      <td>0.170707</td>\n",
       "      <td>0.045716</td>\n",
       "      <td>0.109881</td>\n",
       "      <td>-0.004774</td>\n",
       "      <td>0.064216</td>\n",
       "      <td>1.000000</td>\n",
       "      <td>0.029495</td>\n",
       "    </tr>\n",
       "    <tr>\n",
       "      <th>codigo_bairro</th>\n",
       "      <td>-0.020846</td>\n",
       "      <td>-0.089050</td>\n",
       "      <td>0.327983</td>\n",
       "      <td>-0.282528</td>\n",
       "      <td>0.043600</td>\n",
       "      <td>0.029495</td>\n",
       "      <td>1.000000</td>\n",
       "    </tr>\n",
       "  </tbody>\n",
       "</table>\n",
       "</div>"
      ],
      "text/plain": [
       "                   valor_aluguel   area_m2  ano_construcao  codigo_localidade  \\\n",
       "valor_aluguel           1.000000  0.584878        0.139194           0.172368   \n",
       "area_m2                 0.584878  1.000000       -0.226581           0.110046   \n",
       "ano_construcao          0.139194 -0.226581        1.000000          -0.152206   \n",
       "codigo_localidade       0.172368  0.110046       -0.152206           1.000000   \n",
       "numero_banheiros        0.250261  0.226306        0.065824           0.037858   \n",
       "numero_cozinhas         0.170707  0.045716        0.109881          -0.004774   \n",
       "codigo_bairro          -0.020846 -0.089050        0.327983          -0.282528   \n",
       "\n",
       "                   numero_banheiros  numero_cozinhas  codigo_bairro  \n",
       "valor_aluguel              0.250261         0.170707      -0.020846  \n",
       "area_m2                    0.226306         0.045716      -0.089050  \n",
       "ano_construcao             0.065824         0.109881       0.327983  \n",
       "codigo_localidade          0.037858        -0.004774      -0.282528  \n",
       "numero_banheiros           1.000000         0.064216       0.043600  \n",
       "numero_cozinhas            0.064216         1.000000       0.029495  \n",
       "codigo_bairro              0.043600         0.029495       1.000000  "
      ]
     },
     "execution_count": 19,
     "metadata": {},
     "output_type": "execute_result"
    }
   ],
   "source": [
    "#Verificar a correlação entre as variáveis\n",
    "df.corr()"
   ]
  },
  {
   "cell_type": "code",
   "execution_count": 20,
   "id": "4adf8d0b",
   "metadata": {},
   "outputs": [
    {
     "data": {
      "text/plain": [
       "<AxesSubplot:xlabel='area_m2', ylabel='valor_aluguel'>"
      ]
     },
     "execution_count": 20,
     "metadata": {},
     "output_type": "execute_result"
    },
    {
     "data": {
      "image/png": "[encoded data removed]",
      "text/plain": [
       "<Figure size 640x480 with 1 Axes>"
      ]
     },
     "metadata": {},
     "output_type": "display_data"
    }
   ],
   "source": [
    "#Analisar a relação entre a variável de entrada e a variável alvo\n",
    "sns.scatterplot(data = df, x = 'area_m2', y = 'valor_aluguel')"
   ]
  },
  {
   "cell_type": "markdown",
   "id": "d9d32baf",
   "metadata": {},
   "source": [
    "## Construção do modelo OLS com Statsmodels"
   ]
  },
  {
   "cell_type": "code",
   "execution_count": 21,
   "id": "35ea40af",
   "metadata": {},
   "outputs": [
    {
     "data": {
      "text/html": [
       "<div>\n",
       "<style scoped>\n",
       "    .dataframe tbody tr th:only-of-type {\n",
       "        vertical-align: middle;\n",
       "    }\n",
       "\n",
       "    .dataframe tbody tr th {\n",
       "        vertical-align: top;\n",
       "    }\n",
       "\n",
       "    .dataframe thead th {\n",
       "        text-align: right;\n",
       "    }\n",
       "</style>\n",
       "<table border=\"1\" class=\"dataframe\">\n",
       "  <thead>\n",
       "    <tr style=\"text-align: right;\">\n",
       "      <th></th>\n",
       "      <th>valor_aluguel</th>\n",
       "      <th>area_m2</th>\n",
       "      <th>ano_construcao</th>\n",
       "      <th>codigo_localidade</th>\n",
       "      <th>numero_banheiros</th>\n",
       "      <th>numero_cozinhas</th>\n",
       "      <th>codigo_bairro</th>\n",
       "    </tr>\n",
       "  </thead>\n",
       "  <tbody>\n",
       "    <tr>\n",
       "      <th>0</th>\n",
       "      <td>120.97436</td>\n",
       "      <td>35</td>\n",
       "      <td>1939</td>\n",
       "      <td>1</td>\n",
       "      <td>0</td>\n",
       "      <td>0</td>\n",
       "      <td>1112</td>\n",
       "    </tr>\n",
       "    <tr>\n",
       "      <th>1</th>\n",
       "      <td>436.97433</td>\n",
       "      <td>104</td>\n",
       "      <td>1939</td>\n",
       "      <td>1</td>\n",
       "      <td>1</td>\n",
       "      <td>0</td>\n",
       "      <td>1112</td>\n",
       "    </tr>\n",
       "    <tr>\n",
       "      <th>2</th>\n",
       "      <td>355.74360</td>\n",
       "      <td>29</td>\n",
       "      <td>1971</td>\n",
       "      <td>2</td>\n",
       "      <td>0</td>\n",
       "      <td>0</td>\n",
       "      <td>2114</td>\n",
       "    </tr>\n",
       "    <tr>\n",
       "      <th>3</th>\n",
       "      <td>282.92310</td>\n",
       "      <td>39</td>\n",
       "      <td>1972</td>\n",
       "      <td>2</td>\n",
       "      <td>0</td>\n",
       "      <td>0</td>\n",
       "      <td>2148</td>\n",
       "    </tr>\n",
       "    <tr>\n",
       "      <th>4</th>\n",
       "      <td>807.23080</td>\n",
       "      <td>97</td>\n",
       "      <td>1985</td>\n",
       "      <td>1</td>\n",
       "      <td>0</td>\n",
       "      <td>0</td>\n",
       "      <td>2222</td>\n",
       "    </tr>\n",
       "  </tbody>\n",
       "</table>\n",
       "</div>"
      ],
      "text/plain": [
       "   valor_aluguel  area_m2  ano_construcao  codigo_localidade  \\\n",
       "0      120.97436       35            1939                  1   \n",
       "1      436.97433      104            1939                  1   \n",
       "2      355.74360       29            1971                  2   \n",
       "3      282.92310       39            1972                  2   \n",
       "4      807.23080       97            1985                  1   \n",
       "\n",
       "   numero_banheiros  numero_cozinhas  codigo_bairro  \n",
       "0                 0                0           1112  \n",
       "1                 1                0           1112  \n",
       "2                 0                0           2114  \n",
       "3                 0                0           2148  \n",
       "4                 0                0           2222  "
      ]
     },
     "execution_count": 21,
     "metadata": {},
     "output_type": "execute_result"
    }
   ],
   "source": [
    "df.head()"
   ]
  },
  {
   "cell_type": "code",
   "execution_count": 23,
   "id": "4c7759f5",
   "metadata": {},
   "outputs": [],
   "source": [
    "#Definição da variável dependente(alvo)\n",
    "y = df['valor_aluguel']"
   ]
  },
  {
   "cell_type": "code",
   "execution_count": 24,
   "id": "0f93881d",
   "metadata": {},
   "outputs": [],
   "source": [
    "#Definindo a variável independente(preditora)\n",
    "X = df['area_m2']"
   ]
  },
  {
   "cell_type": "code",
   "execution_count": 25,
   "id": "edd8be51",
   "metadata": {},
   "outputs": [],
   "source": [
    "#O statsmodels requer a adição de uma constante à variávevl\n",
    "X = sm.add_constant(X)"
   ]
  },
  {
   "cell_type": "code",
   "execution_count": 26,
   "id": "58efb5e2",
   "metadata": {},
   "outputs": [],
   "source": [
    "#Criação do modelo\n",
    "modelo = sm.OLS(y, X)"
   ]
  },
  {
   "cell_type": "code",
   "execution_count": 27,
   "id": "76a7f89b",
   "metadata": {},
   "outputs": [],
   "source": [
    "#Treinamento do modelo\n",
    "resultado = modelo.fit()"
   ]
  },
  {
   "cell_type": "code",
   "execution_count": 28,
   "id": "08d792ad",
   "metadata": {},
   "outputs": [
    {
     "name": "stdout",
     "output_type": "stream",
     "text": [
      "                            OLS Regression Results                            \n",
      "==============================================================================\n",
      "Dep. Variable:          valor_aluguel   R-squared:                       0.342\n",
      "Model:                            OLS   Adj. R-squared:                  0.342\n",
      "Method:                 Least Squares   F-statistic:                     1559.\n",
      "Date:                Mon, 24 Apr 2023   Prob (F-statistic):          6.84e-275\n",
      "Time:                        21:38:10   Log-Likelihood:                -19461.\n",
      "No. Observations:                3000   AIC:                         3.893e+04\n",
      "Df Residuals:                    2998   BIC:                         3.894e+04\n",
      "Df Model:                           1                                         \n",
      "Covariance Type:            nonrobust                                         \n",
      "==============================================================================\n",
      "                 coef    std err          t      P>|t|      [0.025      0.975]\n",
      "------------------------------------------------------------------------------\n",
      "const        133.6988      8.750     15.279      0.000     116.541     150.856\n",
      "area_m2        4.8386      0.123     39.482      0.000       4.598       5.079\n",
      "==============================================================================\n",
      "Omnibus:                      206.173   Durbin-Watson:                   2.003\n",
      "Prob(Omnibus):                  0.000   Jarque-Bera (JB):              441.379\n",
      "Skew:                           0.448   Prob(JB):                     1.43e-96\n",
      "Kurtosis:                       4.651   Cond. No.                         215.\n",
      "==============================================================================\n",
      "\n",
      "Notes:\n",
      "[1] Standard Errors assume that the covariance matrix of the errors is correctly specified.\n"
     ]
    }
   ],
   "source": [
    "print(resultado.summary())"
   ]
  },
  {
   "cell_type": "markdown",
   "id": "d9190efe",
   "metadata": {},
   "source": [
    "## Plotando o grafico"
   ]
  },
  {
   "cell_type": "code",
   "execution_count": 29,
   "id": "32cec00e",
   "metadata": {},
   "outputs": [
    {
     "data": {
      "image/png": "[encoded data removed]",
      "text/plain": [
       "<Figure size 1200x800 with 1 Axes>"
      ]
     },
     "metadata": {},
     "output_type": "display_data"
    }
   ],
   "source": [
    "plt.figure(figsize = (12, 8))\n",
    "plt.xlabel('area_m2', size = 16)\n",
    "plt.ylabel('valor_aluguel', size = 16)\n",
    "plt.plot(X['area_m2'], y, 'o', label = 'Dados Reais')\n",
    "plt.plot(X['area_m2'], resultado.fittedvalues, 'r-', label = 'Linha de Regressão (Previsão do Modelo)')\n",
    "plt.legend(loc = 'best')\n",
    "plt.show()"
   ]
  },
  {
   "cell_type": "markdown",
   "id": "eadc9487",
   "metadata": {},
   "source": [
    "## Conclusão do projeto\n",
    "\n",
    "Claramente existe uma forte relação entre a área (em m2) dos imóveis e o valor do aluguel. Entretanto, apenas a área dos imóveis não é suficiente para explicar a variação no valor do aluguel, pois nosso modelo obteve um coeficiente de determinação (R²) de apenas 0.34.\n",
    "\n",
    "O ideal seria usar mais variáveis de entrada para construir o modelo a fim de compreender se outros fatores influenciam no valor do aluguel."
   ]
  },
  {
   "cell_type": "code",
   "execution_count": 1,
   "id": "2db6b990",
   "metadata": {},
   "outputs": [],
   "source": [
    "import pandas as pd"
   ]
  },
  {
   "cell_type": "code",
   "execution_count": 2,
   "id": "a0af010c",
   "metadata": {},
   "outputs": [
    {
     "data": {
      "text/html": [
       "<div>\n",
       "<style scoped>\n",
       "    .dataframe tbody tr th:only-of-type {\n",
       "        vertical-align: middle;\n",
       "    }\n",
       "\n",
       "    .dataframe tbody tr th {\n",
       "        vertical-align: top;\n",
       "    }\n",
       "\n",
       "    .dataframe thead th {\n",
       "        text-align: right;\n",
       "    }\n",
       "</style>\n",
       "<table border=\"1\" class=\"dataframe\">\n",
       "  <thead>\n",
       "    <tr style=\"text-align: right;\">\n",
       "      <th></th>\n",
       "      <th>valor_aluguel</th>\n",
       "      <th>area_m2</th>\n",
       "      <th>ano_construcao</th>\n",
       "      <th>codigo_localidade</th>\n",
       "      <th>numero_banheiros</th>\n",
       "      <th>numero_cozinhas</th>\n",
       "      <th>codigo_bairro</th>\n",
       "    </tr>\n",
       "  </thead>\n",
       "  <tbody>\n",
       "    <tr>\n",
       "      <th>0</th>\n",
       "      <td>120.97436</td>\n",
       "      <td>35</td>\n",
       "      <td>1939</td>\n",
       "      <td>1</td>\n",
       "      <td>0</td>\n",
       "      <td>0</td>\n",
       "      <td>1112</td>\n",
       "    </tr>\n",
       "    <tr>\n",
       "      <th>1</th>\n",
       "      <td>436.97433</td>\n",
       "      <td>104</td>\n",
       "      <td>1939</td>\n",
       "      <td>1</td>\n",
       "      <td>1</td>\n",
       "      <td>0</td>\n",
       "      <td>1112</td>\n",
       "    </tr>\n",
       "    <tr>\n",
       "      <th>2</th>\n",
       "      <td>355.74360</td>\n",
       "      <td>29</td>\n",
       "      <td>1971</td>\n",
       "      <td>2</td>\n",
       "      <td>0</td>\n",
       "      <td>0</td>\n",
       "      <td>2114</td>\n",
       "    </tr>\n",
       "    <tr>\n",
       "      <th>3</th>\n",
       "      <td>282.92310</td>\n",
       "      <td>39</td>\n",
       "      <td>1972</td>\n",
       "      <td>2</td>\n",
       "      <td>0</td>\n",
       "      <td>0</td>\n",
       "      <td>2148</td>\n",
       "    </tr>\n",
       "    <tr>\n",
       "      <th>4</th>\n",
       "      <td>807.23080</td>\n",
       "      <td>97</td>\n",
       "      <td>1985</td>\n",
       "      <td>1</td>\n",
       "      <td>0</td>\n",
       "      <td>0</td>\n",
       "      <td>2222</td>\n",
       "    </tr>\n",
       "    <tr>\n",
       "      <th>5</th>\n",
       "      <td>482.82053</td>\n",
       "      <td>62</td>\n",
       "      <td>1962</td>\n",
       "      <td>1</td>\n",
       "      <td>0</td>\n",
       "      <td>0</td>\n",
       "      <td>2222</td>\n",
       "    </tr>\n",
       "    <tr>\n",
       "      <th>6</th>\n",
       "      <td>323.69232</td>\n",
       "      <td>31</td>\n",
       "      <td>1965</td>\n",
       "      <td>1</td>\n",
       "      <td>0</td>\n",
       "      <td>0</td>\n",
       "      <td>2211</td>\n",
       "    </tr>\n",
       "    <tr>\n",
       "      <th>7</th>\n",
       "      <td>370.97437</td>\n",
       "      <td>61</td>\n",
       "      <td>1957</td>\n",
       "      <td>2</td>\n",
       "      <td>1</td>\n",
       "      <td>0</td>\n",
       "      <td>2142</td>\n",
       "    </tr>\n",
       "    <tr>\n",
       "      <th>8</th>\n",
       "      <td>373.69232</td>\n",
       "      <td>72</td>\n",
       "      <td>1978</td>\n",
       "      <td>1</td>\n",
       "      <td>0</td>\n",
       "      <td>0</td>\n",
       "      <td>2143</td>\n",
       "    </tr>\n",
       "    <tr>\n",
       "      <th>9</th>\n",
       "      <td>521.69230</td>\n",
       "      <td>75</td>\n",
       "      <td>1968</td>\n",
       "      <td>1</td>\n",
       "      <td>0</td>\n",
       "      <td>0</td>\n",
       "      <td>2142</td>\n",
       "    </tr>\n",
       "  </tbody>\n",
       "</table>\n",
       "</div>"
      ],
      "text/plain": [
       "   valor_aluguel  area_m2  ano_construcao  codigo_localidade  \\\n",
       "0      120.97436       35            1939                  1   \n",
       "1      436.97433      104            1939                  1   \n",
       "2      355.74360       29            1971                  2   \n",
       "3      282.92310       39            1972                  2   \n",
       "4      807.23080       97            1985                  1   \n",
       "5      482.82053       62            1962                  1   \n",
       "6      323.69232       31            1965                  1   \n",
       "7      370.97437       61            1957                  2   \n",
       "8      373.69232       72            1978                  1   \n",
       "9      521.69230       75            1968                  1   \n",
       "\n",
       "   numero_banheiros  numero_cozinhas  codigo_bairro  \n",
       "0                 0                0           1112  \n",
       "1                 1                0           1112  \n",
       "2                 0                0           2114  \n",
       "3                 0                0           2148  \n",
       "4                 0                0           2222  \n",
       "5                 0                0           2222  \n",
       "6                 0                0           2211  \n",
       "7                 1                0           2142  \n",
       "8                 0                0           2143  \n",
       "9                 0                0           2142  "
      ]
     },
     "execution_count": 2,
     "metadata": {},
     "output_type": "execute_result"
    }
   ],
   "source": [
    "df = pd.read_csv('dataset.csv')\n",
    "df.head(10)"
   ]
  },
  {
   "cell_type": "code",
   "execution_count": 3,
   "id": "9f20bf26",
   "metadata": {},
   "outputs": [],
   "source": [
    "df2 = df.head(5)"
   ]
  },
  {
   "cell_type": "code",
   "execution_count": 4,
   "id": "aa47d09c",
   "metadata": {},
   "outputs": [
    {
     "data": {
      "text/html": [
       "<div>\n",
       "<style scoped>\n",
       "    .dataframe tbody tr th:only-of-type {\n",
       "        vertical-align: middle;\n",
       "    }\n",
       "\n",
       "    .dataframe tbody tr th {\n",
       "        vertical-align: top;\n",
       "    }\n",
       "\n",
       "    .dataframe thead th {\n",
       "        text-align: right;\n",
       "    }\n",
       "</style>\n",
       "<table border=\"1\" class=\"dataframe\">\n",
       "  <thead>\n",
       "    <tr style=\"text-align: right;\">\n",
       "      <th></th>\n",
       "      <th>valor_aluguel</th>\n",
       "      <th>area_m2</th>\n",
       "      <th>ano_construcao</th>\n",
       "      <th>codigo_localidade</th>\n",
       "      <th>numero_banheiros</th>\n",
       "      <th>numero_cozinhas</th>\n",
       "      <th>codigo_bairro</th>\n",
       "    </tr>\n",
       "  </thead>\n",
       "  <tbody>\n",
       "    <tr>\n",
       "      <th>0</th>\n",
       "      <td>120.97436</td>\n",
       "      <td>35</td>\n",
       "      <td>1939</td>\n",
       "      <td>1</td>\n",
       "      <td>0</td>\n",
       "      <td>0</td>\n",
       "      <td>1112</td>\n",
       "    </tr>\n",
       "    <tr>\n",
       "      <th>1</th>\n",
       "      <td>436.97433</td>\n",
       "      <td>104</td>\n",
       "      <td>1939</td>\n",
       "      <td>1</td>\n",
       "      <td>1</td>\n",
       "      <td>0</td>\n",
       "      <td>1112</td>\n",
       "    </tr>\n",
       "    <tr>\n",
       "      <th>2</th>\n",
       "      <td>355.74360</td>\n",
       "      <td>29</td>\n",
       "      <td>1971</td>\n",
       "      <td>2</td>\n",
       "      <td>0</td>\n",
       "      <td>0</td>\n",
       "      <td>2114</td>\n",
       "    </tr>\n",
       "    <tr>\n",
       "      <th>3</th>\n",
       "      <td>282.92310</td>\n",
       "      <td>39</td>\n",
       "      <td>1972</td>\n",
       "      <td>2</td>\n",
       "      <td>0</td>\n",
       "      <td>0</td>\n",
       "      <td>2148</td>\n",
       "    </tr>\n",
       "    <tr>\n",
       "      <th>4</th>\n",
       "      <td>807.23080</td>\n",
       "      <td>97</td>\n",
       "      <td>1985</td>\n",
       "      <td>1</td>\n",
       "      <td>0</td>\n",
       "      <td>0</td>\n",
       "      <td>2222</td>\n",
       "    </tr>\n",
       "  </tbody>\n",
       "</table>\n",
       "</div>"
      ],
      "text/plain": [
       "   valor_aluguel  area_m2  ano_construcao  codigo_localidade  \\\n",
       "0      120.97436       35            1939                  1   \n",
       "1      436.97433      104            1939                  1   \n",
       "2      355.74360       29            1971                  2   \n",
       "3      282.92310       39            1972                  2   \n",
       "4      807.23080       97            1985                  1   \n",
       "\n",
       "   numero_banheiros  numero_cozinhas  codigo_bairro  \n",
       "0                 0                0           1112  \n",
       "1                 1                0           1112  \n",
       "2                 0                0           2114  \n",
       "3                 0                0           2148  \n",
       "4                 0                0           2222  "
      ]
     },
     "execution_count": 4,
     "metadata": {},
     "output_type": "execute_result"
    }
   ],
   "source": [
    "df2"
   ]
  },
  {
   "cell_type": "code",
   "execution_count": 27,
   "id": "a2aad17a",
   "metadata": {},
   "outputs": [],
   "source": [
    "inteiros =[]\n",
    "flutuante =[]\n",
    "for linha in df2.columns:\n",
    "    if df2[linha].dtypes == 'int64':\n",
    "        inteiros.append(linha)\n",
    "    else:\n",
    "        flutuante.append(linha)"
   ]
  },
  {
   "cell_type": "code",
   "execution_count": 29,
   "id": "53943792",
   "metadata": {},
   "outputs": [
    {
     "name": "stdout",
     "output_type": "stream",
     "text": [
      "['area_m2', 'ano_construcao', 'codigo_localidade', 'numero_banheiros', 'numero_cozinhas', 'codigo_bairro']\n",
      "\n",
      "['valor_aluguel']\n"
     ]
    }
   ],
   "source": [
    "print(inteiros)\n",
    "print()\n",
    "print(flutuante)"
   ]
  },
  {
   "cell_type": "code",
   "execution_count": null,
   "id": "1a517c4d",
   "metadata": {},
   "outputs": [],
   "source": []
  }
 ],
 "metadata": {
  "kernelspec": {
   "display_name": "Python 3 (ipykernel)",
   "language": "python",
   "name": "python3"
  },
  "language_info": {
   "codemirror_mode": {
    "name": "ipython",
    "version": 3
   },
   "file_extension": ".py",
   "mimetype": "text/x-python",
   "name": "python",
   "nbconvert_exporter": "python",
   "pygments_lexer": "ipython3",
   "version": "3.9.13"
  }
 },
 "nbformat": 4,
 "nbformat_minor": 5
}
